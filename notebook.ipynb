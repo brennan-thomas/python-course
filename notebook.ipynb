{
 "cells": [
  {
   "cell_type": "code",
   "execution_count": 1,
   "id": "6f236b45",
   "metadata": {},
   "outputs": [
    {
     "data": {
      "text/plain": [
       "1"
      ]
     },
     "execution_count": 1,
     "metadata": {},
     "output_type": "execute_result"
    }
   ],
   "source": [
    "def smallest(lst):\n",
    "    '''\n",
    "    Find the smallest element in a list\n",
    "    '''\n",
    "    \n",
    "    return sorted(lst)[0]\n",
    "\n",
    "smallest([3, 1, 4, 8, 6])"
   ]
  },
  {
   "cell_type": "code",
   "execution_count": 2,
   "id": "2be47ef0",
   "metadata": {},
   "outputs": [
    {
     "data": {
      "text/plain": [
       "1"
      ]
     },
     "execution_count": 2,
     "metadata": {},
     "output_type": "execute_result"
    }
   ],
   "source": [
    "import numpy as np\n",
    "def smallest_np(lst):\n",
    "    '''\n",
    "    Find the smallest element in a list, using numpy\n",
    "    '''\n",
    "    \n",
    "    return np.min(lst)\n",
    "\n",
    "smallest_np([3, 1, 4, 8, 6])"
   ]
  },
  {
   "cell_type": "code",
   "execution_count": null,
   "id": "44b63bff",
   "metadata": {},
   "outputs": [],
   "source": []
  }
 ],
 "metadata": {
  "kernelspec": {
   "display_name": "Python 3 (ipykernel)",
   "language": "python",
   "name": "python3"
  },
  "language_info": {
   "codemirror_mode": {
    "name": "ipython",
    "version": 3
   },
   "file_extension": ".py",
   "mimetype": "text/x-python",
   "name": "python",
   "nbconvert_exporter": "python",
   "pygments_lexer": "ipython3",
   "version": "3.9.5"
  }
 },
 "nbformat": 4,
 "nbformat_minor": 5
}
