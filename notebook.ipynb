{
 "cells": [
  {
   "cell_type": "markdown",
   "id": "a6c4137a",
   "metadata": {},
   "source": [
    "# Introduction to Python\n",
    "\n",
    "Python is a general-purpose, high level programming language known for its human-readable and compact syntax. Python is easy to learn, widely used, and quick to write programs with. There are two major Python versions: Python 2 and Python 3. Python 3 is the most popular version, and Python 2 is no longer officially supported, though it is still used regularly in many legacy systems. This course will focus on Python 3."
   ]
  },
  {
   "cell_type": "markdown",
   "id": "42ffcb71",
   "metadata": {},
   "source": [
    "## Installing Python\n",
    "\n",
    "As an interpreted language, Python programs require an installed Python interpreter in order to be run. Luckily, an interpreter can be easily installed for all major operating systems. You can download the latest Python versions from the official Python website: https://www.python.org/downloads/. Python also comes preinstalled on many Linux distributions.\n",
    "\n",
    "This Jupyter Notebook uses an online service to connect to a Python interpreter and run code. Therefore, you do not need to install Python locally to edit or run the code here."
   ]
  },
  {
   "cell_type": "markdown",
   "id": "5a742f2c",
   "metadata": {},
   "source": [
    "## Running Python\n",
    "### Interactive Mode (Slide 11)\n",
    "\n",
    "You can start an interactive Python session by running the command for the Python interpreter. Usually `python3` on Linux or `python` on Windows:\n",
    "![Output of the `python` command on Windows](images/python.png)\n",
    "\n",
    "This allows you to run python commands line by line and see the output.\n",
    "\n",
    "### Scripts (Slide 12)\n",
    "\n",
    "Python programs are stored in files with a `.py` extension. When provided as the first argument to the Python interpreter, the interpreter will run all commands in the script in order:\n",
    "![Output of the `python` command on a script](images/script.png)"
   ]
  },
  {
   "cell_type": "markdown",
   "id": "c5c7968e",
   "metadata": {},
   "source": [
    "## Syntax (Slide 24)"
   ]
  },
  {
   "cell_type": "markdown",
   "id": "f4bff65d",
   "metadata": {},
   "source": [
    "The two basic data types are integers and floats. Divion of two numbers (integer or float) automatically results in a float, but the `//` operator performs integer division, rounding down. Strings can be created with either single or double quotes:"
   ]
  },
  {
   "cell_type": "code",
   "execution_count": 2,
   "id": "589f1378",
   "metadata": {},
   "outputs": [
    {
     "name": "stdout",
     "output_type": "stream",
     "text": [
      "Float: 2.5\n",
      "Integer: 2\n",
      "This is a string.\n",
      "This is also a string.\n"
     ]
    }
   ],
   "source": [
    "print('Float:', 5 / 2)\n",
    "print('Integer:', 5 // 2)\n",
    "print('This is a string.')\n",
    "print(\"This is also a string.\")"
   ]
  },
  {
   "cell_type": "markdown",
   "id": "91f36911",
   "metadata": {},
   "source": [
    "Statements in Python are separated by newlines; no semicolons are used. Python uses indentation to define code blocks, rather than braces. A colon usually marks the start of a block construct, and a block ends when the indentation returns to the same indentation of the outer block:"
   ]
  },
  {
   "cell_type": "code",
   "execution_count": 3,
   "id": "83eaa2a7",
   "metadata": {},
   "outputs": [
    {
     "name": "stdout",
     "output_type": "stream",
     "text": [
      "Inside if block.\n",
      "Outside if block.\n"
     ]
    }
   ],
   "source": [
    "var = True\n",
    "if var:\n",
    "    print('Inside if block.')\n",
    "print('Outside if block.')"
   ]
  },
  {
   "cell_type": "markdown",
   "id": "05713729",
   "metadata": {},
   "source": [
    "Comments in Python start with a hash (#). There are technically no multi-line comment blocks, but multi-line strings are used as docstrings and can be used as comment blocks. Multi-line strings are created with three single or double quotes:"
   ]
  },
  {
   "cell_type": "code",
   "execution_count": 4,
   "id": "7b0267e8",
   "metadata": {},
   "outputs": [
    {
     "data": {
      "text/plain": [
       "'\\nThis is also a comment, usually used as a docstring.\\n'"
      ]
     },
     "execution_count": 4,
     "metadata": {},
     "output_type": "execute_result"
    }
   ],
   "source": [
    "# This is a comment\n",
    "'''\n",
    "This is also a comment, usually used as a docstring.\n",
    "'''"
   ]
  },
  {
   "cell_type": "markdown",
   "id": "06f4c635",
   "metadata": {},
   "source": [
    "Variables in Python are dynamically typed, so any type of value can be assigned to them at runtime. Variable declaration and assignment happen at the same time:"
   ]
  },
  {
   "cell_type": "code",
   "execution_count": 7,
   "id": "bab88851",
   "metadata": {},
   "outputs": [
    {
     "name": "stdout",
     "output_type": "stream",
     "text": [
      "5\n"
     ]
    }
   ],
   "source": [
    "# Assign the value 5 to variable x\n",
    "x = 5\n",
    "print(x)"
   ]
  },
  {
   "cell_type": "markdown",
   "id": "3691775a",
   "metadata": {},
   "source": [
    "Python variables are **references** to objects, so changes to a variable's object will be reflected across all variables the object is bound to."
   ]
  },
  {
   "cell_type": "markdown",
   "id": "26cb9093",
   "metadata": {},
   "source": [
    "The `None` keyword can be used if a variable does not have a value (similar to `null` in other languages):"
   ]
  },
  {
   "cell_type": "code",
   "execution_count": 8,
   "id": "4d65f214",
   "metadata": {},
   "outputs": [],
   "source": [
    "x = None"
   ]
  },
  {
   "cell_type": "markdown",
   "id": "fc7fa34e",
   "metadata": {},
   "source": [
    "## Exercises"
   ]
  },
  {
   "cell_type": "markdown",
   "id": "6f443f60",
   "metadata": {},
   "source": [
    "Fix the whitespace indentation in the following code:"
   ]
  },
  {
   "cell_type": "code",
   "execution_count": 66,
   "id": "4aa2d3cf",
   "metadata": {},
   "outputs": [
    {
     "ename": "IndentationError",
     "evalue": "unexpected indent (<ipython-input-66-52613de87916>, line 5)",
     "output_type": "error",
     "traceback": [
      "\u001b[1;36m  File \u001b[1;32m\"<ipython-input-66-52613de87916>\"\u001b[1;36m, line \u001b[1;32m5\u001b[0m\n\u001b[1;33m    i += 1\u001b[0m\n\u001b[1;37m    ^\u001b[0m\n\u001b[1;31mIndentationError\u001b[0m\u001b[1;31m:\u001b[0m unexpected indent\n"
     ]
    }
   ],
   "source": [
    "# Fix this code\n",
    "i = 0\n",
    "while i < 10:\n",
    "    print(i)\n",
    "      i += 1"
   ]
  },
  {
   "cell_type": "markdown",
   "id": "325b1418",
   "metadata": {},
   "source": [
    "Solution:"
   ]
  },
  {
   "cell_type": "code",
   "execution_count": 18,
   "id": "7ad1b104",
   "metadata": {
    "scrolled": true,
    "tags": [
     "hide-cell"
    ]
   },
   "outputs": [
    {
     "data": {
      "text/html": [
       "\n",
       "    <script>\n",
       "    function code_toggle() {\n",
       "        if ($('div.cell.code_cell.rendered.selected div.input').css('display')!='none'){\n",
       "            $('div.cell.code_cell.rendered.selected div.input').hide();\n",
       "        } else {\n",
       "            $('div.cell.code_cell.rendered.selected div.input').show();\n",
       "        }\n",
       "    }\n",
       "    </script>\n",
       "\n",
       "\n",
       "<form action=\"javascript:code_toggle()\"><input type=\"submit\" id=\"toggleButton\" value=\"Show Solution\"></form>\n"
      ],
      "text/plain": [
       "<IPython.core.display.HTML object>"
      ]
     },
     "metadata": {},
     "output_type": "display_data"
    },
    {
     "name": "stdout",
     "output_type": "stream",
     "text": [
      "0\n",
      "1\n",
      "2\n",
      "3\n",
      "4\n",
      "5\n",
      "6\n",
      "7\n",
      "8\n",
      "9\n"
     ]
    }
   ],
   "source": [
    "####### Hide Cell Input ############\n",
    "from IPython.core.display import display, HTML\n",
    "toggle_code_str = '''\n",
    "<form action=\"javascript:code_toggle()\"><input type=\"submit\" id=\"toggleButton\" value=\"Show Solution\"></form>\n",
    "'''\n",
    "\n",
    "toggle_code_prepare_str = '''\n",
    "    <script>\n",
    "    function code_toggle() {\n",
    "        if ($('div.cell.code_cell.rendered.selected div.input').css('display')!='none'){\n",
    "            $('div.cell.code_cell.rendered.selected div.input').hide();\n",
    "        } else {\n",
    "            $('div.cell.code_cell.rendered.selected div.input').show();\n",
    "        }\n",
    "    }\n",
    "    </script>\n",
    "\n",
    "'''\n",
    "\n",
    "display(HTML(toggle_code_prepare_str + toggle_code_str))\n",
    "\n",
    "############### Write code below ##################\n",
    "\n",
    "# Fix this code\n",
    "i = 0\n",
    "while i < 10:\n",
    "    print(i)\n",
    "    i += 1"
   ]
  },
  {
   "cell_type": "markdown",
   "id": "23bdd700",
   "metadata": {},
   "source": [
    "Create 3 variables: x, y, and z. Assign a float to x, an integer to y, and a string to z."
   ]
  },
  {
   "cell_type": "code",
   "execution_count": 18,
   "id": "ffe8c1bd",
   "metadata": {},
   "outputs": [
    {
     "ename": "SyntaxError",
     "evalue": "invalid syntax (<ipython-input-18-43e45809cf60>, line 2)",
     "output_type": "error",
     "traceback": [
      "\u001b[1;36m  File \u001b[1;32m\"<ipython-input-18-43e45809cf60>\"\u001b[1;36m, line \u001b[1;32m2\u001b[0m\n\u001b[1;33m    x =\u001b[0m\n\u001b[1;37m        ^\u001b[0m\n\u001b[1;31mSyntaxError\u001b[0m\u001b[1;31m:\u001b[0m invalid syntax\n"
     ]
    }
   ],
   "source": [
    "# Complete this\n",
    "x = \n",
    "y = \n",
    "z = "
   ]
  },
  {
   "cell_type": "markdown",
   "id": "ad9f32ed",
   "metadata": {},
   "source": [
    "Solution:"
   ]
  },
  {
   "cell_type": "code",
   "execution_count": 10,
   "id": "4b0b3681",
   "metadata": {
    "tags": [
     "hide-cell"
    ]
   },
   "outputs": [
    {
     "data": {
      "text/html": [
       "\n",
       "    <script>\n",
       "    function code_toggle() {\n",
       "        if ($('div.cell.code_cell.rendered.selected div.input').css('display')!='none'){\n",
       "            $('div.cell.code_cell.rendered.selected div.input').hide();\n",
       "        } else {\n",
       "            $('div.cell.code_cell.rendered.selected div.input').show();\n",
       "        }\n",
       "    }\n",
       "    </script>\n",
       "\n",
       "\n",
       "<form action=\"javascript:code_toggle()\"><input type=\"submit\" id=\"toggleButton\" value=\"Show Solution\"></form>\n"
      ],
      "text/plain": [
       "<IPython.core.display.HTML object>"
      ]
     },
     "metadata": {},
     "output_type": "display_data"
    }
   ],
   "source": [
    "####### Hide Cell Input ############\n",
    "from IPython.core.display import display, HTML\n",
    "toggle_code_str = '''\n",
    "<form action=\"javascript:code_toggle()\"><input type=\"submit\" id=\"toggleButton\" value=\"Show Solution\"></form>\n",
    "'''\n",
    "\n",
    "toggle_code_prepare_str = '''\n",
    "    <script>\n",
    "    function code_toggle() {\n",
    "        if ($('div.cell.code_cell.rendered.selected div.input').css('display')!='none'){\n",
    "            $('div.cell.code_cell.rendered.selected div.input').hide();\n",
    "        } else {\n",
    "            $('div.cell.code_cell.rendered.selected div.input').show();\n",
    "        }\n",
    "    }\n",
    "    </script>\n",
    "\n",
    "'''\n",
    "\n",
    "display(HTML(toggle_code_prepare_str + toggle_code_str))\n",
    "\n",
    "############### Write code below ##################\n",
    "\n",
    "# Complete this\n",
    "x = 5 / 2\n",
    "y = 5\n",
    "z = \"string\""
   ]
  },
  {
   "cell_type": "markdown",
   "id": "a1375da1",
   "metadata": {},
   "source": [
    "Run the below cell to check your work after running the cell with your solution:"
   ]
  },
  {
   "cell_type": "code",
   "execution_count": 12,
   "id": "c2056506",
   "metadata": {
    "tags": [
     "hide-input"
    ]
   },
   "outputs": [
    {
     "data": {
      "text/html": [
       "\n",
       "    <script>\n",
       "    function code_toggle() {\n",
       "        if ($('div.cell.code_cell.rendered.selected div.input').css('display')!='none'){\n",
       "            $('div.cell.code_cell.rendered.selected div.input').hide();\n",
       "        } else {\n",
       "            $('div.cell.code_cell.rendered.selected div.input').show();\n",
       "        }\n",
       "    }\n",
       "    </script>\n",
       "\n",
       "\n",
       "<form action=\"javascript:code_toggle()\"><input type=\"submit\" id=\"toggleButton\" value=\"Show Checks\"></form>\n"
      ],
      "text/plain": [
       "<IPython.core.display.HTML object>"
      ]
     },
     "metadata": {},
     "output_type": "display_data"
    },
    {
     "name": "stdout",
     "output_type": "stream",
     "text": [
      "Passed!\n"
     ]
    }
   ],
   "source": [
    "####### Hide Cell Input ############\n",
    "from IPython.core.display import display, HTML\n",
    "toggle_code_str = '''\n",
    "<form action=\"javascript:code_toggle()\"><input type=\"submit\" id=\"toggleButton\" value=\"Show Checks\"></form>\n",
    "'''\n",
    "\n",
    "toggle_code_prepare_str = '''\n",
    "    <script>\n",
    "    function code_toggle() {\n",
    "        if ($('div.cell.code_cell.rendered.selected div.input').css('display')!='none'){\n",
    "            $('div.cell.code_cell.rendered.selected div.input').hide();\n",
    "        } else {\n",
    "            $('div.cell.code_cell.rendered.selected div.input').show();\n",
    "        }\n",
    "    }\n",
    "    </script>\n",
    "\n",
    "'''\n",
    "\n",
    "display(HTML(toggle_code_prepare_str + toggle_code_str))\n",
    "\n",
    "############### Write code below ##################\n",
    "\n",
    "if type(x) is float and type(y) is int and type(z) is str:\n",
    "    print(\"Passed!\")\n",
    "else:\n",
    "    if type(x) is not float:\n",
    "        print(\"Check your x assignment.\")\n",
    "        print(f\"\\tExpected: float; Got: {type(x).__name__}\")\n",
    "    if type(y) is not int:\n",
    "        print(\"Check your y assignment.\")\n",
    "        print(f\"\\tExpected: int; Got: {type(y).__name__}\")\n",
    "    if type(z) is not str:\n",
    "        print(\"Check your z assignment.\")\n",
    "        print(f\"\\tExpected: str; Got: {type(z).__name__}\")"
   ]
  },
  {
   "cell_type": "markdown",
   "id": "c393d46f",
   "metadata": {},
   "source": [
    "## Data Structures\n",
    "Python includes many high-level data structures that make it easy to manipulate data. In general, these include Sequences (Lists, Tuples, and Sets) and Dictionaries. Data structures can hold multiple types simultaneously, so it is up to you to keep track of what kind of data you're storing."
   ]
  },
  {
   "cell_type": "markdown",
   "id": "7553c0c0",
   "metadata": {},
   "source": [
    "### Sequence Types: Lists, Tuples, Strings (Slide 32)\n",
    "List: Mutable Sequence of items, defined using square brackets: [1, 2, 3] <br>\n",
    "Tuple: Immutable Sequence of items, defined using commas (usually surrounded by parentheses): 1, 2, 3 or (1, 2, 3)<br>\n",
    "String: Immutable sequence of characters, defined using single or double quotes: 'hello' or \"hello\"<br>\n",
    "\n",
    "Items in a sequence can be of mixed types."
   ]
  },
  {
   "cell_type": "code",
   "execution_count": 38,
   "id": "884ddaad",
   "metadata": {},
   "outputs": [],
   "source": [
    "# Define a list\n",
    "lst = [3, 4, 'abc', 4.5, (2, 4)]\n",
    "\n",
    "# Define a tuple\n",
    "tpl = (3, 4, 'abc', 4.5, (2, 4))\n",
    "\n",
    "# Define a string\n",
    "string = \"Hello world\""
   ]
  },
  {
   "cell_type": "markdown",
   "id": "cbe04cd6",
   "metadata": {},
   "source": [
    "You access elements in a sequence using square brackets along with the index of the element you want (0-based):"
   ]
  },
  {
   "cell_type": "code",
   "execution_count": 39,
   "id": "380a75bc",
   "metadata": {},
   "outputs": [
    {
     "name": "stdout",
     "output_type": "stream",
     "text": [
      "List index 0: 3\n",
      "List index 2: abc\n",
      "Tuple index 2: abc\n",
      "String index 1: e\n"
     ]
    }
   ],
   "source": [
    "print('List index 0:', lst[0])\n",
    "print('List index 2:', lst[2])\n",
    "print('Tuple index 2:', tpl[2])\n",
    "print('String index 1:', string[1])"
   ]
  },
  {
   "cell_type": "markdown",
   "id": "c89739e4",
   "metadata": {},
   "source": [
    "Indices can also be negative, where -1 is the last element in the sequence:"
   ]
  },
  {
   "cell_type": "code",
   "execution_count": 40,
   "id": "f11e91bd",
   "metadata": {},
   "outputs": [
    {
     "name": "stdout",
     "output_type": "stream",
     "text": [
      "Index -1: (2, 4)\n",
      "Index -3: abc\n"
     ]
    }
   ],
   "source": [
    "print('Index -1:', lst[-1])\n",
    "print('Index -3:', lst[-3])"
   ]
  },
  {
   "cell_type": "markdown",
   "id": "3f76107e",
   "metadata": {},
   "source": [
    "*Slicing* a sequence returns a copy of of the sequence with the selected elements. The syntax for a slice index is [*start*:*stop*:*step*]. Start is included as the first index, stop is excluded."
   ]
  },
  {
   "cell_type": "code",
   "execution_count": 41,
   "id": "8f039c31",
   "metadata": {},
   "outputs": [
    {
     "name": "stdout",
     "output_type": "stream",
     "text": [
      "[4, 'abc', 4.5]\n",
      "[3, 'abc']\n"
     ]
    }
   ],
   "source": [
    "print(lst[1:4])\n",
    "print(lst[0:4:2])"
   ]
  },
  {
   "cell_type": "markdown",
   "id": "a2c680b4",
   "metadata": {},
   "source": [
    "If a number is not specified before or after the colon, the slice extends all the way to the beginning or end of the sequence, respectively:"
   ]
  },
  {
   "cell_type": "code",
   "execution_count": 42,
   "id": "6a80b3df",
   "metadata": {},
   "outputs": [
    {
     "name": "stdout",
     "output_type": "stream",
     "text": [
      "['abc', 4.5, (2, 4)]\n",
      "[3, 4]\n"
     ]
    }
   ],
   "source": [
    "print(lst[2:])\n",
    "print(lst[:2])"
   ]
  },
  {
   "cell_type": "markdown",
   "id": "3aad207f",
   "metadata": {},
   "source": [
    "`[:]` makes a copy of the entire sequence. Changes to a copy will not affect the original list, but changing the objects *inside* the copy can, if those objects are mutable. In the following example, there are two lists and three variables; two of the variables point to the same list:"
   ]
  },
  {
   "cell_type": "code",
   "execution_count": 43,
   "id": "f5ad6621",
   "metadata": {},
   "outputs": [
    {
     "name": "stdout",
     "output_type": "stream",
     "text": [
      "[1, [2, 3]] [1, [2, 3]] [1, [2, 3]]\n",
      "[0, [2, 3]] [0, [2, 3]] [1, [2, 3]]\n",
      "[0, [2, 3]] [0, [2, 3]] [5, [2, 3]]\n",
      "[0, [6, 3]] [0, [6, 3]] [5, [6, 3]]\n"
     ]
    }
   ],
   "source": [
    "l1 = [1, [2, 3]] # List with a mutable list inside\n",
    "l2 = l1          # Both point to the same list, so changes to l2 affect l1\n",
    "l3 = l1[:]       # l3 is a new list, but its second element is the same object as l1's second element\n",
    "\n",
    "print(l1, l2, l3)\n",
    "l2[0] = 0        # Change l1 and l2\n",
    "print(l1, l2, l3)\n",
    "l3[0] = 5        # Change just l3\n",
    "print(l1, l2, l3)\n",
    "l3[1][0] = 6     # Change the object inside l3, affecting all lists\n",
    "print(l1, l2, l3)"
   ]
  },
  {
   "cell_type": "markdown",
   "id": "fd021987",
   "metadata": {},
   "source": [
    "The `in` operator tests whether a value is inside a container:"
   ]
  },
  {
   "cell_type": "code",
   "execution_count": 44,
   "id": "9075b4a9",
   "metadata": {},
   "outputs": [
    {
     "data": {
      "text/plain": [
       "True"
      ]
     },
     "execution_count": 44,
     "metadata": {},
     "output_type": "execute_result"
    }
   ],
   "source": [
    "5 in [1, 5, 6]"
   ]
  },
  {
   "cell_type": "markdown",
   "id": "63448eef",
   "metadata": {},
   "source": [
    "The `+` operator concatenates sequences, while the `*` operator repeats sequences. Both of these produce a new sequence:"
   ]
  },
  {
   "cell_type": "code",
   "execution_count": 45,
   "id": "9009ba16",
   "metadata": {},
   "outputs": [
    {
     "data": {
      "text/plain": [
       "(1, 2, 3, 4, 5, 6)"
      ]
     },
     "execution_count": 45,
     "metadata": {},
     "output_type": "execute_result"
    }
   ],
   "source": [
    "(1, 2, 3) + (4, 5, 6)"
   ]
  },
  {
   "cell_type": "code",
   "execution_count": 46,
   "id": "544f7250",
   "metadata": {},
   "outputs": [
    {
     "data": {
      "text/plain": [
       "'HelloHelloHello'"
      ]
     },
     "execution_count": 46,
     "metadata": {},
     "output_type": "execute_result"
    }
   ],
   "source": [
    "\"Hello\" * 3"
   ]
  },
  {
   "cell_type": "markdown",
   "id": "b481c57b",
   "metadata": {},
   "source": [
    "### List Specifics (Slide 45)"
   ]
  },
  {
   "cell_type": "markdown",
   "id": "1e3268fc",
   "metadata": {},
   "source": [
    "Since lists are mutable, you can change them in place, by assigning a value to an index. The variable will still point to the same object:"
   ]
  },
  {
   "cell_type": "code",
   "execution_count": 47,
   "id": "5a92ce19",
   "metadata": {},
   "outputs": [
    {
     "name": "stdout",
     "output_type": "stream",
     "text": [
      "[3, 'new', 'abc', 4.5, (2, 4)]\n"
     ]
    }
   ],
   "source": [
    "lst = [3, 4, 'abc', 4.5, (2, 4)]\n",
    "lst[1] = 'new'\n",
    "print(lst)"
   ]
  },
  {
   "cell_type": "markdown",
   "id": "91e7b14a",
   "metadata": {},
   "source": [
    "#### List Methods\n",
    "append(val) - append a value in place to the end of the list<br>\n",
    "insert(index, val) - insert a value in place at a specific index<br>\n",
    "extend(lst) - concatenate a list in place onto the end of the original list"
   ]
  },
  {
   "cell_type": "code",
   "execution_count": 49,
   "id": "cab781cd",
   "metadata": {},
   "outputs": [
    {
     "name": "stdout",
     "output_type": "stream",
     "text": [
      "[1, 2, 3]\n",
      "[1, 2, 3, 4]\n",
      "[1, 2, 'abc', 3, 4]\n",
      "[1, 2, 'abc', 3, 4, 10, 9]\n"
     ]
    }
   ],
   "source": [
    "lst = [1, 2, 3]\n",
    "print(lst)\n",
    "lst.append(4)\n",
    "print(lst)\n",
    "lst.insert(2, 'abc')\n",
    "print(lst)\n",
    "lst.extend([10, 9])\n",
    "print(lst)"
   ]
  },
  {
   "cell_type": "markdown",
   "id": "8f94964a",
   "metadata": {},
   "source": [
    "The `del` keyword can remove an item from a list:"
   ]
  },
  {
   "cell_type": "code",
   "execution_count": 50,
   "id": "a9a9aac7",
   "metadata": {},
   "outputs": [],
   "source": [
    "del lst[0]"
   ]
  },
  {
   "cell_type": "code",
   "execution_count": 51,
   "id": "53f2af99",
   "metadata": {},
   "outputs": [
    {
     "name": "stdout",
     "output_type": "stream",
     "text": [
      "[2, 'abc', 3, 4, 10, 9]\n"
     ]
    }
   ],
   "source": [
    "print(lst)"
   ]
  },
  {
   "cell_type": "markdown",
   "id": "e3d85558",
   "metadata": {},
   "source": [
    "### Tuples (Slide 52)"
   ]
  },
  {
   "cell_type": "markdown",
   "id": "4993308d",
   "metadata": {},
   "source": [
    "A tuple can be \"unpacked\" during assignment to separate its values into individual variables:"
   ]
  },
  {
   "cell_type": "code",
   "execution_count": 69,
   "id": "62774110",
   "metadata": {},
   "outputs": [
    {
     "name": "stdout",
     "output_type": "stream",
     "text": [
      "5\n",
      "6\n"
     ]
    }
   ],
   "source": [
    "t = (5, 6)\n",
    "x, y = t\n",
    "print(x)\n",
    "print(y)"
   ]
  },
  {
   "cell_type": "markdown",
   "id": "3aa40fed",
   "metadata": {},
   "source": [
    "Tuples are the standard way to return multiple values from a funcion. Unpacking makes it easy to keep the values separate:"
   ]
  },
  {
   "cell_type": "code",
   "execution_count": 70,
   "id": "e9f3fc43",
   "metadata": {},
   "outputs": [
    {
     "name": "stdout",
     "output_type": "stream",
     "text": [
      "5\n",
      "6\n"
     ]
    }
   ],
   "source": [
    "def function():\n",
    "    return 5, 6\n",
    "\n",
    "x, y = function()\n",
    "print(x)\n",
    "print(y)"
   ]
  },
  {
   "cell_type": "markdown",
   "id": "7c4cae77",
   "metadata": {},
   "source": [
    "### Sequence Operations (Slide 53)\n",
    "There are several built-in operations for transformations and operations on sequences. Most of these operations create lazily evaluated objects that only determine the values when they are needed, so you need to convert them into a sequence if you want to see all values."
   ]
  },
  {
   "cell_type": "code",
   "execution_count": 58,
   "id": "3c7da928",
   "metadata": {},
   "outputs": [],
   "source": [
    "l1 = [1, 4, 7, 6]\n",
    "l2 = [6, 1, 9, 2]"
   ]
  },
  {
   "cell_type": "markdown",
   "id": "974e4d38",
   "metadata": {},
   "source": [
    "Use the `len()` function to get the length of a list:"
   ]
  },
  {
   "cell_type": "code",
   "execution_count": 59,
   "id": "6068e6f0",
   "metadata": {},
   "outputs": [
    {
     "data": {
      "text/plain": [
       "4"
      ]
     },
     "execution_count": 59,
     "metadata": {},
     "output_type": "execute_result"
    }
   ],
   "source": [
    "len(l1)"
   ]
  },
  {
   "cell_type": "markdown",
   "id": "192b302c",
   "metadata": {},
   "source": [
    "`enumerate()` creates a sequence of tuples with each item's index and the item. Combined with tuple unpacking, this is a very easy way to loop through a list while keeping track of the index:"
   ]
  },
  {
   "cell_type": "code",
   "execution_count": 62,
   "id": "7262370e",
   "metadata": {},
   "outputs": [
    {
     "name": "stdout",
     "output_type": "stream",
     "text": [
      "<enumerate object at 0x0000021AC2ED99A8>\n",
      "[(0, 1), (1, 4), (2, 7), (3, 6)]\n"
     ]
    }
   ],
   "source": [
    "print(enumerate(l1))       # Create 'enumerate' object that doesn't calculate values immediately\n",
    "print(list(enumerate(l1))) # Convert to sequence to immediately evaluate"
   ]
  },
  {
   "cell_type": "markdown",
   "id": "9499a4f3",
   "metadata": {},
   "source": [
    "`zip()` interleaves the items of two sequences into a single sequence of tuples:"
   ]
  },
  {
   "cell_type": "code",
   "execution_count": 63,
   "id": "8870ce84",
   "metadata": {},
   "outputs": [
    {
     "data": {
      "text/plain": [
       "[(1, 6), (4, 1), (7, 9), (6, 2)]"
      ]
     },
     "execution_count": 63,
     "metadata": {},
     "output_type": "execute_result"
    }
   ],
   "source": [
    "list(zip(l1, l2))"
   ]
  },
  {
   "cell_type": "markdown",
   "id": "b2510e3d",
   "metadata": {},
   "source": [
    "`reversed()` creates a reversed sequence:"
   ]
  },
  {
   "cell_type": "code",
   "execution_count": 65,
   "id": "dd546fc5",
   "metadata": {},
   "outputs": [
    {
     "data": {
      "text/plain": [
       "[6, 7, 4, 1]"
      ]
     },
     "execution_count": 65,
     "metadata": {},
     "output_type": "execute_result"
    }
   ],
   "source": [
    "list(reversed(l1))"
   ]
  },
  {
   "cell_type": "markdown",
   "id": "563f00cc",
   "metadata": {},
   "source": [
    "`map()` creates a sequence by applying a function to each item in the original sequence:"
   ]
  },
  {
   "cell_type": "code",
   "execution_count": 67,
   "id": "d05df46c",
   "metadata": {},
   "outputs": [
    {
     "data": {
      "text/plain": [
       "[2, 8, 14, 12]"
      ]
     },
     "execution_count": 67,
     "metadata": {},
     "output_type": "execute_result"
    }
   ],
   "source": [
    "def func(x):\n",
    "    return x*2\n",
    "\n",
    "list(map(func, l1))"
   ]
  },
  {
   "cell_type": "markdown",
   "id": "e5cfac39",
   "metadata": {},
   "source": [
    "### Sets (Slide 56)\n",
    "Sets are unordered containers of unique elements. They are created using braces: {}"
   ]
  },
  {
   "cell_type": "code",
   "execution_count": 71,
   "id": "b9bf2fa0",
   "metadata": {},
   "outputs": [
    {
     "name": "stdout",
     "output_type": "stream",
     "text": [
      "{1, 2, 3}\n"
     ]
    }
   ],
   "source": [
    "s = {1, 2, 3}\n",
    "print(s)"
   ]
  },
  {
   "cell_type": "markdown",
   "id": "c57e2219",
   "metadata": {},
   "source": [
    "Sets can't be indexed like lists, because the don't have an order. You can still loop through them, check for membership, or convert them to lists if you need to. They support set operations like union (|), intersection (&), subset (<=), and superset (>=)."
   ]
  },
  {
   "cell_type": "code",
   "execution_count": 72,
   "id": "47646d2b",
   "metadata": {},
   "outputs": [],
   "source": [
    "s1 = {1, 2, 3}\n",
    "s2 = {3, 4, 5}"
   ]
  },
  {
   "cell_type": "code",
   "execution_count": 73,
   "id": "d9fb2194",
   "metadata": {},
   "outputs": [
    {
     "ename": "TypeError",
     "evalue": "'set' object is not subscriptable",
     "output_type": "error",
     "traceback": [
      "\u001b[1;31m---------------------------------------------------------------------------\u001b[0m",
      "\u001b[1;31mTypeError\u001b[0m                                 Traceback (most recent call last)",
      "\u001b[1;32m~\\AppData\\Local\\Temp\\ipykernel_2272\\1003651411.py\u001b[0m in \u001b[0;36m<module>\u001b[1;34m\u001b[0m\n\u001b[1;32m----> 1\u001b[1;33m \u001b[0ms1\u001b[0m\u001b[1;33m[\u001b[0m\u001b[1;36m1\u001b[0m\u001b[1;33m]\u001b[0m \u001b[1;31m# will error\u001b[0m\u001b[1;33m\u001b[0m\u001b[1;33m\u001b[0m\u001b[0m\n\u001b[0m",
      "\u001b[1;31mTypeError\u001b[0m: 'set' object is not subscriptable"
     ]
    }
   ],
   "source": [
    "s1[1] # will error"
   ]
  },
  {
   "cell_type": "code",
   "execution_count": 76,
   "id": "9e6e5a80",
   "metadata": {},
   "outputs": [
    {
     "name": "stdout",
     "output_type": "stream",
     "text": [
      "True\n",
      "{1, 2, 3, 4, 5}\n",
      "{3}\n",
      "True\n",
      "True\n"
     ]
    }
   ],
   "source": [
    "print(2 in s1) # check membership\n",
    "print(s1 | s2) # union\n",
    "print(s1 & s2) # intersection\n",
    "print({1, 2} <= s1) # subset\n",
    "print({1, 2, 3, 4} >= s1) # superset"
   ]
  },
  {
   "cell_type": "markdown",
   "id": "232c6a5f",
   "metadata": {},
   "source": [
    "### Dictionaries (Slide 57)\n",
    "Dictionaries are containers for key-value pairs. Values can be anything, but keys must be immutable types like strings, numbers, or tuples. Dicts are created using braces {} with colons separating keys and values, and commas separating the individual pairs:"
   ]
  },
  {
   "cell_type": "code",
   "execution_count": 78,
   "id": "31dcdfd1",
   "metadata": {},
   "outputs": [
    {
     "name": "stdout",
     "output_type": "stream",
     "text": [
      "{'item1': 2, 'item2': 3}\n"
     ]
    }
   ],
   "source": [
    "d = {\"item1\": 2, \"item2\": 3}\n",
    "print(d)"
   ]
  },
  {
   "cell_type": "markdown",
   "id": "d20dcbeb",
   "metadata": {},
   "source": [
    "You can access a value in a dictionary using square brackets along with the key:"
   ]
  },
  {
   "cell_type": "code",
   "execution_count": 79,
   "id": "bddba240",
   "metadata": {},
   "outputs": [
    {
     "data": {
      "text/plain": [
       "3"
      ]
     },
     "execution_count": 79,
     "metadata": {},
     "output_type": "execute_result"
    }
   ],
   "source": [
    "d[\"item2\"]"
   ]
  },
  {
   "cell_type": "markdown",
   "id": "0d8610bc",
   "metadata": {},
   "source": [
    "The `keys()` and `values()` methods return a list of keys or values, respectively. The `items()` method returns a list of key-value pair tuples:"
   ]
  },
  {
   "cell_type": "code",
   "execution_count": 80,
   "id": "2cadfc61",
   "metadata": {},
   "outputs": [
    {
     "name": "stdout",
     "output_type": "stream",
     "text": [
      "dict_keys(['item1', 'item2'])\n",
      "dict_items([('item1', 2), ('item2', 3)])\n",
      "dict_values([2, 3])\n"
     ]
    }
   ],
   "source": [
    "print(d.keys())\n",
    "print(d.items())\n",
    "print(d.values())"
   ]
  },
  {
   "cell_type": "markdown",
   "id": "80799ece",
   "metadata": {},
   "source": [
    "Check if a key exists in the dict using `in`:"
   ]
  },
  {
   "cell_type": "code",
   "execution_count": 81,
   "id": "1d7a2fb4",
   "metadata": {},
   "outputs": [
    {
     "name": "stdout",
     "output_type": "stream",
     "text": [
      "True\n",
      "False\n"
     ]
    }
   ],
   "source": [
    "print(\"item1\" in d)\n",
    "print(\"item3\" in d)"
   ]
  },
  {
   "cell_type": "markdown",
   "id": "98437e01",
   "metadata": {},
   "source": [
    "## Exercises"
   ]
  },
  {
   "cell_type": "code",
   "execution_count": 70,
   "id": "74173312",
   "metadata": {},
   "outputs": [],
   "source": [
    "lst = [1, 4, 8, 2, 1]"
   ]
  },
  {
   "cell_type": "markdown",
   "id": "6246c1af",
   "metadata": {},
   "source": [
    "Write code to change the third value in the above list to a string. Then assign a list copy of the first three values to the variable x:"
   ]
  },
  {
   "cell_type": "code",
   "execution_count": 52,
   "id": "a9ae0c25",
   "metadata": {},
   "outputs": [],
   "source": [
    "# Change value\n",
    "\n",
    "# Copy sublist\n",
    "x = "
   ]
  },
  {
   "cell_type": "markdown",
   "id": "233a5a7a",
   "metadata": {},
   "source": [
    "Solution:"
   ]
  },
  {
   "cell_type": "code",
   "execution_count": 19,
   "id": "37162100",
   "metadata": {
    "tags": [
     "hide-cell"
    ]
   },
   "outputs": [
    {
     "data": {
      "text/html": [
       "\n",
       "    <script>\n",
       "    function code_toggle() {\n",
       "        if ($('div.cell.code_cell.rendered.selected div.input').css('display')!='none'){\n",
       "            $('div.cell.code_cell.rendered.selected div.input').hide();\n",
       "        } else {\n",
       "            $('div.cell.code_cell.rendered.selected div.input').show();\n",
       "        }\n",
       "    }\n",
       "    </script>\n",
       "\n",
       "\n",
       "<form action=\"javascript:code_toggle()\"><input type=\"submit\" id=\"toggleButton\" value=\"Show Solution\"></form>\n"
      ],
      "text/plain": [
       "<IPython.core.display.HTML object>"
      ]
     },
     "metadata": {},
     "output_type": "display_data"
    },
    {
     "ename": "NameError",
     "evalue": "name 'lst' is not defined",
     "output_type": "error",
     "traceback": [
      "\u001b[1;31m---------------------------------------------------------------------------\u001b[0m",
      "\u001b[1;31mNameError\u001b[0m                                 Traceback (most recent call last)",
      "\u001b[1;32m~\\AppData\\Local\\Temp\\ipykernel_19432\\617594730.py\u001b[0m in \u001b[0;36m<module>\u001b[1;34m\u001b[0m\n\u001b[0;32m     23\u001b[0m \u001b[1;33m\u001b[0m\u001b[0m\n\u001b[0;32m     24\u001b[0m \u001b[1;31m# Change value\u001b[0m\u001b[1;33m\u001b[0m\u001b[1;33m\u001b[0m\u001b[1;33m\u001b[0m\u001b[0m\n\u001b[1;32m---> 25\u001b[1;33m \u001b[0mlst\u001b[0m\u001b[1;33m[\u001b[0m\u001b[1;36m2\u001b[0m\u001b[1;33m]\u001b[0m \u001b[1;33m=\u001b[0m \u001b[1;34m\"string\"\u001b[0m\u001b[1;33m\u001b[0m\u001b[1;33m\u001b[0m\u001b[0m\n\u001b[0m\u001b[0;32m     26\u001b[0m \u001b[1;31m# Copy sublist\u001b[0m\u001b[1;33m\u001b[0m\u001b[1;33m\u001b[0m\u001b[1;33m\u001b[0m\u001b[0m\n\u001b[0;32m     27\u001b[0m \u001b[0mx\u001b[0m \u001b[1;33m=\u001b[0m \u001b[0mlst\u001b[0m\u001b[1;33m[\u001b[0m\u001b[1;33m:\u001b[0m\u001b[1;36m3\u001b[0m\u001b[1;33m]\u001b[0m\u001b[1;33m\u001b[0m\u001b[1;33m\u001b[0m\u001b[0m\n",
      "\u001b[1;31mNameError\u001b[0m: name 'lst' is not defined"
     ]
    }
   ],
   "source": [
    "####### Hide Cell Input ############\n",
    "from IPython.core.display import display, HTML\n",
    "toggle_code_str = '''\n",
    "<form action=\"javascript:code_toggle()\"><input type=\"submit\" id=\"toggleButton\" value=\"Show Solution\"></form>\n",
    "'''\n",
    "\n",
    "toggle_code_prepare_str = '''\n",
    "    <script>\n",
    "    function code_toggle() {\n",
    "        if ($('div.cell.code_cell.rendered.selected div.input').css('display')!='none'){\n",
    "            $('div.cell.code_cell.rendered.selected div.input').hide();\n",
    "        } else {\n",
    "            $('div.cell.code_cell.rendered.selected div.input').show();\n",
    "        }\n",
    "    }\n",
    "    </script>\n",
    "\n",
    "'''\n",
    "\n",
    "display(HTML(toggle_code_prepare_str + toggle_code_str))\n",
    "\n",
    "############### Write code below ##################\n",
    "\n",
    "# Change value\n",
    "lst[2] = \"string\"\n",
    "# Copy sublist\n",
    "x = lst[:3]"
   ]
  },
  {
   "cell_type": "markdown",
   "id": "62e70aa9",
   "metadata": {},
   "source": [
    "Check Solution:"
   ]
  },
  {
   "cell_type": "code",
   "execution_count": 13,
   "id": "0c8adbf8",
   "metadata": {
    "tags": [
     "hide-input"
    ]
   },
   "outputs": [
    {
     "data": {
      "text/html": [
       "\n",
       "    <script>\n",
       "    function code_toggle() {\n",
       "        if ($('div.cell.code_cell.rendered.selected div.input').css('display')!='none'){\n",
       "            $('div.cell.code_cell.rendered.selected div.input').hide();\n",
       "        } else {\n",
       "            $('div.cell.code_cell.rendered.selected div.input').show();\n",
       "        }\n",
       "    }\n",
       "    </script>\n",
       "\n",
       "\n",
       "<form action=\"javascript:code_toggle()\"><input type=\"submit\" id=\"toggleButton\" value=\"Show Checks\"></form>\n"
      ],
      "text/plain": [
       "<IPython.core.display.HTML object>"
      ]
     },
     "metadata": {},
     "output_type": "display_data"
    },
    {
     "ename": "NameError",
     "evalue": "name 'lst' is not defined",
     "output_type": "error",
     "traceback": [
      "\u001b[1;31m---------------------------------------------------------------------------\u001b[0m",
      "\u001b[1;31mNameError\u001b[0m                                 Traceback (most recent call last)",
      "\u001b[1;32m~\\AppData\\Local\\Temp\\ipykernel_19432\\817009535.py\u001b[0m in \u001b[0;36m<module>\u001b[1;34m\u001b[0m\n\u001b[0;32m     22\u001b[0m \u001b[1;31m############### Write code below ##################\u001b[0m\u001b[1;33m\u001b[0m\u001b[1;33m\u001b[0m\u001b[1;33m\u001b[0m\u001b[0m\n\u001b[0;32m     23\u001b[0m \u001b[1;33m\u001b[0m\u001b[0m\n\u001b[1;32m---> 24\u001b[1;33m \u001b[1;32mif\u001b[0m \u001b[0mtype\u001b[0m\u001b[1;33m(\u001b[0m\u001b[0mlst\u001b[0m\u001b[1;33m[\u001b[0m\u001b[1;36m2\u001b[0m\u001b[1;33m]\u001b[0m\u001b[1;33m)\u001b[0m \u001b[1;32mis\u001b[0m \u001b[1;32mnot\u001b[0m \u001b[0mstr\u001b[0m\u001b[1;33m:\u001b[0m\u001b[1;33m\u001b[0m\u001b[1;33m\u001b[0m\u001b[0m\n\u001b[0m\u001b[0;32m     25\u001b[0m     \u001b[0mprint\u001b[0m\u001b[1;33m(\u001b[0m\u001b[1;34m\"Check list modification.\"\u001b[0m\u001b[1;33m)\u001b[0m\u001b[1;33m\u001b[0m\u001b[1;33m\u001b[0m\u001b[0m\n\u001b[0;32m     26\u001b[0m \u001b[1;32melif\u001b[0m \u001b[0mlen\u001b[0m\u001b[1;33m(\u001b[0m\u001b[0mx\u001b[0m\u001b[1;33m)\u001b[0m \u001b[1;33m!=\u001b[0m \u001b[1;36m3\u001b[0m \u001b[1;32mor\u001b[0m \u001b[0mx\u001b[0m\u001b[1;33m[\u001b[0m\u001b[1;33m:\u001b[0m\u001b[1;36m2\u001b[0m\u001b[1;33m]\u001b[0m \u001b[1;33m!=\u001b[0m \u001b[1;33m[\u001b[0m\u001b[1;36m1\u001b[0m\u001b[1;33m,\u001b[0m \u001b[1;36m4\u001b[0m\u001b[1;33m]\u001b[0m \u001b[1;32mor\u001b[0m \u001b[0mtype\u001b[0m\u001b[1;33m(\u001b[0m\u001b[0mx\u001b[0m\u001b[1;33m[\u001b[0m\u001b[1;36m2\u001b[0m\u001b[1;33m]\u001b[0m\u001b[1;33m)\u001b[0m \u001b[1;32mis\u001b[0m \u001b[1;32mnot\u001b[0m \u001b[0mstr\u001b[0m\u001b[1;33m:\u001b[0m\u001b[1;33m\u001b[0m\u001b[1;33m\u001b[0m\u001b[0m\n",
      "\u001b[1;31mNameError\u001b[0m: name 'lst' is not defined"
     ]
    }
   ],
   "source": [
    "####### Hide Cell Input ############\n",
    "from IPython.core.display import display, HTML\n",
    "toggle_code_str = '''\n",
    "<form action=\"javascript:code_toggle()\"><input type=\"submit\" id=\"toggleButton\" value=\"Show Checks\"></form>\n",
    "'''\n",
    "\n",
    "toggle_code_prepare_str = '''\n",
    "    <script>\n",
    "    function code_toggle() {\n",
    "        if ($('div.cell.code_cell.rendered.selected div.input').css('display')!='none'){\n",
    "            $('div.cell.code_cell.rendered.selected div.input').hide();\n",
    "        } else {\n",
    "            $('div.cell.code_cell.rendered.selected div.input').show();\n",
    "        }\n",
    "    }\n",
    "    </script>\n",
    "\n",
    "'''\n",
    "\n",
    "display(HTML(toggle_code_prepare_str + toggle_code_str))\n",
    "\n",
    "############### Write code below ##################\n",
    "\n",
    "if type(lst[2]) is not str:\n",
    "    print(\"Check list modification.\")\n",
    "elif len(x) != 3 or x[:2] != [1, 4] or type(x[2]) is not str:\n",
    "    print(\"Check slicing code.\")\n",
    "else:\n",
    "    print(\"Passed!\")"
   ]
  },
  {
   "cell_type": "markdown",
   "id": "9981f5d7",
   "metadata": {},
   "source": [
    "Create a dictionary with integers as keys and sequences (lists or tuples) as values. The length of each sequence should be equal to it's corresponding key. The dictionary should have at least three key-value pairs."
   ]
  },
  {
   "cell_type": "code",
   "execution_count": 64,
   "id": "1419015b",
   "metadata": {},
   "outputs": [],
   "source": [
    "# Create dictionary\n",
    "x = {}"
   ]
  },
  {
   "cell_type": "markdown",
   "id": "221ddf58",
   "metadata": {},
   "source": [
    "Solution:"
   ]
  },
  {
   "cell_type": "code",
   "execution_count": 20,
   "id": "9f3eee53",
   "metadata": {
    "tags": [
     "hide-cell"
    ]
   },
   "outputs": [
    {
     "data": {
      "text/html": [
       "\n",
       "    <script>\n",
       "    function code_toggle() {\n",
       "        if ($('div.cell.code_cell.rendered.selected div.input').css('display')!='none'){\n",
       "            $('div.cell.code_cell.rendered.selected div.input').hide();\n",
       "        } else {\n",
       "            $('div.cell.code_cell.rendered.selected div.input').show();\n",
       "        }\n",
       "    }\n",
       "    </script>\n",
       "\n",
       "\n",
       "<form action=\"javascript:code_toggle()\"><input type=\"submit\" id=\"toggleButton\" value=\"Show Solution\"></form>\n"
      ],
      "text/plain": [
       "<IPython.core.display.HTML object>"
      ]
     },
     "metadata": {},
     "output_type": "display_data"
    }
   ],
   "source": [
    "####### Hide Cell Input ############\n",
    "from IPython.core.display import display, HTML\n",
    "toggle_code_str = '''\n",
    "<form action=\"javascript:code_toggle()\"><input type=\"submit\" id=\"toggleButton\" value=\"Show Solution\"></form>\n",
    "'''\n",
    "\n",
    "toggle_code_prepare_str = '''\n",
    "    <script>\n",
    "    function code_toggle() {\n",
    "        if ($('div.cell.code_cell.rendered.selected div.input').css('display')!='none'){\n",
    "            $('div.cell.code_cell.rendered.selected div.input').hide();\n",
    "        } else {\n",
    "            $('div.cell.code_cell.rendered.selected div.input').show();\n",
    "        }\n",
    "    }\n",
    "    </script>\n",
    "\n",
    "'''\n",
    "\n",
    "display(HTML(toggle_code_prepare_str + toggle_code_str))\n",
    "\n",
    "############### Write code below ##################\n",
    "\n",
    "# Create dictionary\n",
    "x = {1: [2], 2: [2, \"hello\"], 4: [2, \"hello\", 2.5, 1]}"
   ]
  },
  {
   "cell_type": "markdown",
   "id": "89f76482",
   "metadata": {},
   "source": [
    "Check Solution:"
   ]
  },
  {
   "cell_type": "code",
   "execution_count": 14,
   "id": "13984899",
   "metadata": {
    "tags": [
     "hide-input"
    ]
   },
   "outputs": [
    {
     "data": {
      "text/html": [
       "\n",
       "    <script>\n",
       "    function code_toggle() {\n",
       "        if ($('div.cell.code_cell.rendered.selected div.input').css('display')!='none'){\n",
       "            $('div.cell.code_cell.rendered.selected div.input').hide();\n",
       "        } else {\n",
       "            $('div.cell.code_cell.rendered.selected div.input').show();\n",
       "        }\n",
       "    }\n",
       "    </script>\n",
       "\n",
       "\n",
       "<form action=\"javascript:code_toggle()\"><input type=\"submit\" id=\"toggleButton\" value=\"Show Checks\"></form>\n"
      ],
      "text/plain": [
       "<IPython.core.display.HTML object>"
      ]
     },
     "metadata": {},
     "output_type": "display_data"
    },
    {
     "ename": "TypeError",
     "evalue": "object of type 'float' has no len()",
     "output_type": "error",
     "traceback": [
      "\u001b[1;31m---------------------------------------------------------------------------\u001b[0m",
      "\u001b[1;31mTypeError\u001b[0m                                 Traceback (most recent call last)",
      "\u001b[1;32m~\\AppData\\Local\\Temp\\ipykernel_19432\\3617571288.py\u001b[0m in \u001b[0;36m<module>\u001b[1;34m\u001b[0m\n\u001b[0;32m     22\u001b[0m \u001b[1;31m############### Write code below ##################\u001b[0m\u001b[1;33m\u001b[0m\u001b[1;33m\u001b[0m\u001b[1;33m\u001b[0m\u001b[0m\n\u001b[0;32m     23\u001b[0m \u001b[1;33m\u001b[0m\u001b[0m\n\u001b[1;32m---> 24\u001b[1;33m \u001b[1;32mif\u001b[0m \u001b[0mlen\u001b[0m\u001b[1;33m(\u001b[0m\u001b[0mx\u001b[0m\u001b[1;33m)\u001b[0m \u001b[1;33m<\u001b[0m \u001b[1;36m3\u001b[0m\u001b[1;33m:\u001b[0m\u001b[1;33m\u001b[0m\u001b[1;33m\u001b[0m\u001b[0m\n\u001b[0m\u001b[0;32m     25\u001b[0m     \u001b[0mprint\u001b[0m\u001b[1;33m(\u001b[0m\u001b[1;34m\"Not enough key-value pairs.\"\u001b[0m\u001b[1;33m)\u001b[0m\u001b[1;33m\u001b[0m\u001b[1;33m\u001b[0m\u001b[0m\n\u001b[0;32m     26\u001b[0m \u001b[1;32melse\u001b[0m\u001b[1;33m:\u001b[0m\u001b[1;33m\u001b[0m\u001b[1;33m\u001b[0m\u001b[0m\n",
      "\u001b[1;31mTypeError\u001b[0m: object of type 'float' has no len()"
     ]
    }
   ],
   "source": [
    "####### Hide Cell Input ############\n",
    "from IPython.core.display import display, HTML\n",
    "toggle_code_str = '''\n",
    "<form action=\"javascript:code_toggle()\"><input type=\"submit\" id=\"toggleButton\" value=\"Show Checks\"></form>\n",
    "'''\n",
    "\n",
    "toggle_code_prepare_str = '''\n",
    "    <script>\n",
    "    function code_toggle() {\n",
    "        if ($('div.cell.code_cell.rendered.selected div.input').css('display')!='none'){\n",
    "            $('div.cell.code_cell.rendered.selected div.input').hide();\n",
    "        } else {\n",
    "            $('div.cell.code_cell.rendered.selected div.input').show();\n",
    "        }\n",
    "    }\n",
    "    </script>\n",
    "\n",
    "'''\n",
    "\n",
    "display(HTML(toggle_code_prepare_str + toggle_code_str))\n",
    "\n",
    "############### Write code below ##################\n",
    "\n",
    "if len(x) < 3:\n",
    "    print(\"Not enough key-value pairs.\")\n",
    "else:\n",
    "    for k, v in x.items():\n",
    "        if type(k) is not int:\n",
    "            print(f\"Key {k} is not an integer\")\n",
    "            break\n",
    "        if not hasattr(v, '__len__'):\n",
    "            print(f\"Value {v} is not a sequence\")\n",
    "            break\n",
    "        if len(v) != k:\n",
    "            print(f\"Value for key {k} is not of length {k}\")\n",
    "            break\n",
    "    else:\n",
    "        print(\"Passed!\")"
   ]
  },
  {
   "cell_type": "markdown",
   "id": "f2864a44",
   "metadata": {},
   "source": [
    "## Control Flow Structures (Slide 59)"
   ]
  },
  {
   "cell_type": "markdown",
   "id": "91d1293f",
   "metadata": {},
   "source": [
    "### If\n",
    "`If` statements use the keywords `if`, `elif`, and `else`, followed by boolean conditions, and ending with a colon. The indented block after the statement is executed if the condition evaluates to True. True/False boolean values are capitalized in Python."
   ]
  },
  {
   "cell_type": "code",
   "execution_count": 16,
   "id": "69e4603c",
   "metadata": {},
   "outputs": [
    {
     "name": "stdout",
     "output_type": "stream",
     "text": [
      "condition is true\n"
     ]
    }
   ],
   "source": [
    "# Change these\n",
    "condition = True\n",
    "other_condition = False\n",
    "\n",
    "if condition:\n",
    "    print('condition is true')\n",
    "elif other_condition:\n",
    "    print('other_condition is true')\n",
    "else:\n",
    "    print('Neither are true')"
   ]
  },
  {
   "cell_type": "markdown",
   "id": "01b3bbe7",
   "metadata": {},
   "source": [
    "Boolean conditions can be statements evaluated using equality operators: `==`, `!=`, `<`, `>`, `<=`, `>=`, and `is`:"
   ]
  },
  {
   "cell_type": "code",
   "execution_count": 17,
   "id": "191cafc8",
   "metadata": {},
   "outputs": [
    {
     "name": "stdout",
     "output_type": "stream",
     "text": [
      "False\n",
      "True\n",
      "True\n",
      "False\n",
      "True\n",
      "False\n"
     ]
    }
   ],
   "source": [
    "print(5==6)\n",
    "print(5!=6)\n",
    "print(5<6)\n",
    "print(5>6)\n",
    "print(5<=6)\n",
    "print(5>=6)"
   ]
  },
  {
   "cell_type": "markdown",
   "id": "fabd2e9b",
   "metadata": {},
   "source": [
    "`is` compares the object reference rather than value of a variable. In other words, it return True if the two compared variables refer to the same single object. You should also use `is` when checking if a variable is `None`:"
   ]
  },
  {
   "cell_type": "code",
   "execution_count": 18,
   "id": "565e1176",
   "metadata": {},
   "outputs": [
    {
     "name": "stdout",
     "output_type": "stream",
     "text": [
      "x is None\n"
     ]
    }
   ],
   "source": [
    "x = None\n",
    "if x is None:\n",
    "    print('x is None')"
   ]
  },
  {
   "cell_type": "markdown",
   "id": "e9573eed",
   "metadata": {},
   "source": [
    "Conditions can be combined with logical operators: `and`, `or`, and `not`. Parenthesis are not required but can be used for logical grouping:"
   ]
  },
  {
   "cell_type": "code",
   "execution_count": 24,
   "id": "7e895917",
   "metadata": {},
   "outputs": [
    {
     "name": "stdout",
     "output_type": "stream",
     "text": [
      "Either true\n"
     ]
    }
   ],
   "source": [
    "condition = True\n",
    "other_condition = False\n",
    "if condition and other_condition:\n",
    "    print('Both true')\n",
    "if condition or other_condition:\n",
    "    print('Either true')\n",
    "if not condition:\n",
    "    print('Condition not true')"
   ]
  },
  {
   "cell_type": "markdown",
   "id": "b104ef64",
   "metadata": {},
   "source": [
    "### While\n",
    "Same syntax as `if` statement:"
   ]
  },
  {
   "cell_type": "code",
   "execution_count": 26,
   "id": "d370c4d5",
   "metadata": {},
   "outputs": [
    {
     "name": "stdout",
     "output_type": "stream",
     "text": [
      "Once\n"
     ]
    }
   ],
   "source": [
    "condition = True\n",
    "while condition:\n",
    "    print('Once')\n",
    "    condition = False"
   ]
  },
  {
   "cell_type": "markdown",
   "id": "f33fc2ca",
   "metadata": {},
   "source": [
    "### For\n",
    "Uses `in` keyword to loop over all items in a sequence."
   ]
  },
  {
   "cell_type": "code",
   "execution_count": 29,
   "id": "2f185fa5",
   "metadata": {},
   "outputs": [
    {
     "name": "stdout",
     "output_type": "stream",
     "text": [
      "1\n",
      "2\n",
      "3\n"
     ]
    }
   ],
   "source": [
    "lst = [1, 2, 3]\n",
    "for item in lst:\n",
    "    print(item)"
   ]
  },
  {
   "cell_type": "markdown",
   "id": "a580b794",
   "metadata": {},
   "source": [
    "The `range(end)` or `range(start, end, step)` function creates a sequence of numbers in a range, which is useful for iterating a certain number of times. The sequence includes `start`, and does not include `end`:"
   ]
  },
  {
   "cell_type": "code",
   "execution_count": 30,
   "id": "a5715c87",
   "metadata": {},
   "outputs": [
    {
     "name": "stdout",
     "output_type": "stream",
     "text": [
      "0\n",
      "1\n",
      "2\n",
      "3\n",
      "4\n",
      "5\n",
      "6\n",
      "7\n",
      "8\n",
      "9\n"
     ]
    }
   ],
   "source": [
    "# Print 0 to 9\n",
    "for i in range(10):\n",
    "    print(i)"
   ]
  },
  {
   "cell_type": "code",
   "execution_count": 31,
   "id": "8f58400c",
   "metadata": {},
   "outputs": [
    {
     "name": "stdout",
     "output_type": "stream",
     "text": [
      "5\n",
      "7\n",
      "9\n"
     ]
    }
   ],
   "source": [
    "# Print 5 to 9, counting by 2\n",
    "for i in range(5, 10, 2):\n",
    "    print(i)"
   ]
  },
  {
   "cell_type": "markdown",
   "id": "2a7a209c",
   "metadata": {},
   "source": [
    "#### List Comprehension (Slide 64)\n",
    "List Comprehension is a shorthand way to create lists out of other lists using `for` loops:"
   ]
  },
  {
   "cell_type": "code",
   "execution_count": 27,
   "id": "6d8baf9d",
   "metadata": {},
   "outputs": [
    {
     "name": "stdout",
     "output_type": "stream",
     "text": [
      "[0, 1, 4, 9, 16, 25, 36, 49, 64, 81]\n"
     ]
    }
   ],
   "source": [
    "squares = [x**2 for x in range(10)]\n",
    "print(squares)"
   ]
  },
  {
   "cell_type": "markdown",
   "id": "d18733b6",
   "metadata": {},
   "source": [
    "The expression at the beginning is evaluated in the context of the following `for` loop for each element in the original sequence and added to the new list. Can be filtered with conditionals: "
   ]
  },
  {
   "cell_type": "code",
   "execution_count": 82,
   "id": "fade7aa4",
   "metadata": {},
   "outputs": [
    {
     "data": {
      "text/plain": [
       "[0, 4, 8, 12, 16]"
      ]
     },
     "execution_count": 82,
     "metadata": {},
     "output_type": "execute_result"
    }
   ],
   "source": [
    "[x*2 for x in range(10) if x % 2 == 0]"
   ]
  },
  {
   "cell_type": "markdown",
   "id": "a629b598",
   "metadata": {},
   "source": [
    "Multiple `for` loops can be used for a combinatorial result out of two lists:"
   ]
  },
  {
   "cell_type": "code",
   "execution_count": 83,
   "id": "df1e90b7",
   "metadata": {},
   "outputs": [
    {
     "name": "stdout",
     "output_type": "stream",
     "text": [
      "[5, 6, 4, 6, 7, 5, 7, 8]\n",
      "[5, 6, 4, 6, 7, 5, 7, 8]\n"
     ]
    }
   ],
   "source": [
    "# Flat output from nested for loop\n",
    "# Leftmost `for` is outermost loop\n",
    "l = [x+y for x in [1,2,3] for y in [4,5,3] if x != y]\n",
    "print(l)\n",
    "\n",
    "# Equivalent\n",
    "l = []\n",
    "for x in [1,2,3]:\n",
    "    for y in [4,5,3]:\n",
    "        if x != y:\n",
    "            l.append(x+y)\n",
    "print(l)"
   ]
  },
  {
   "cell_type": "code",
   "execution_count": 84,
   "id": "e1a50bed",
   "metadata": {},
   "outputs": [
    {
     "name": "stdout",
     "output_type": "stream",
     "text": [
      "[[5, 6, 7], [6, 7, 8], [4, 5]]\n",
      "[[5, 6, 7], [6, 7, 8], [4, 5]]\n"
     ]
    }
   ],
   "source": [
    "# Nested output\n",
    "# Innermost comprehension is the innermost loop\n",
    "l = [[x+y for x in [1,2,3] if x != y] for y in [4,5,3]]\n",
    "print(l)\n",
    "\n",
    "#Equivalent\n",
    "l = []\n",
    "for y in [4,5,3]:\n",
    "    l_ = []\n",
    "    for x in [1,2,3]:\n",
    "        if x != y:\n",
    "            l_.append(x+y)\n",
    "    l.append(l_)\n",
    "print(l)"
   ]
  },
  {
   "cell_type": "markdown",
   "id": "6431b6ce",
   "metadata": {},
   "source": [
    "You can also use comprehensions to create dictionaries in the same way:"
   ]
  },
  {
   "cell_type": "code",
   "execution_count": 87,
   "id": "db481dc8",
   "metadata": {},
   "outputs": [
    {
     "name": "stdout",
     "output_type": "stream",
     "text": [
      "{1: 2, 2: 3}\n",
      "{1: 2, 2: 3}\n"
     ]
    }
   ],
   "source": [
    "d = {k: v for k, v in [(1, 2), (2, 3), (3, 3)] if k != v}\n",
    "print(d)\n",
    "\n",
    "# Equivalent\n",
    "d = {}\n",
    "for k, v in [(1, 2), (2, 3), (3, 3)]:\n",
    "    if k != v:\n",
    "        d[k] = v\n",
    "print(d)"
   ]
  },
  {
   "cell_type": "markdown",
   "id": "b0a87a09",
   "metadata": {},
   "source": [
    "### Break\n",
    "In a loop, `break` exits the innermost loop early. `continue` skips the current loop iteration. `else` after a loop is only executed if the loop was not terminated by a `break`:"
   ]
  },
  {
   "cell_type": "code",
   "execution_count": 32,
   "id": "fb059e29",
   "metadata": {},
   "outputs": [
    {
     "name": "stdout",
     "output_type": "stream",
     "text": [
      "0\n",
      "1\n",
      "3\n",
      "4\n"
     ]
    }
   ],
   "source": [
    "# Print 0 to 4, skipping 2\n",
    "for i in range(10):\n",
    "    if i == 2:\n",
    "        continue\n",
    "    elif i == 5:\n",
    "        break\n",
    "    print(i)\n",
    "else:\n",
    "    print('Did not break')"
   ]
  },
  {
   "cell_type": "markdown",
   "id": "cef2e8e4",
   "metadata": {},
   "source": [
    "### Pass\n",
    "`pass` is a no-op statement that can be used if a statement is syntactically required, but you don't want to do anything."
   ]
  },
  {
   "cell_type": "code",
   "execution_count": 33,
   "id": "62f64ae3",
   "metadata": {},
   "outputs": [],
   "source": [
    "if True:\n",
    "    pass\n",
    "\n",
    "for i in range(10):\n",
    "    pass"
   ]
  },
  {
   "cell_type": "markdown",
   "id": "b3d026ff",
   "metadata": {},
   "source": [
    "## Exercises"
   ]
  },
  {
   "cell_type": "markdown",
   "id": "93093c7a",
   "metadata": {},
   "source": [
    "Write a list comprehension that results in a list of each element in the original list that is divisible by 3."
   ]
  },
  {
   "cell_type": "code",
   "execution_count": null,
   "id": "21044926",
   "metadata": {},
   "outputs": [],
   "source": [
    "orig_list = [1, 2, 3, 4, 5, 6, 7, 8, 9, 10, 11, 12]\n",
    "new_list = [] # list comprehension"
   ]
  },
  {
   "cell_type": "markdown",
   "id": "0076889d",
   "metadata": {},
   "source": [
    "Solution:"
   ]
  },
  {
   "cell_type": "code",
   "execution_count": 21,
   "id": "227224f0",
   "metadata": {
    "tags": [
     "hide-cell"
    ]
   },
   "outputs": [
    {
     "data": {
      "text/html": [
       "\n",
       "    <script>\n",
       "    function code_toggle() {\n",
       "        if ($('div.cell.code_cell.rendered.selected div.input').css('display')!='none'){\n",
       "            $('div.cell.code_cell.rendered.selected div.input').hide();\n",
       "        } else {\n",
       "            $('div.cell.code_cell.rendered.selected div.input').show();\n",
       "        }\n",
       "    }\n",
       "    </script>\n",
       "\n",
       "\n",
       "<form action=\"javascript:code_toggle()\"><input type=\"submit\" id=\"toggleButton\" value=\"Show Solution\"></form>\n"
      ],
      "text/plain": [
       "<IPython.core.display.HTML object>"
      ]
     },
     "metadata": {},
     "output_type": "display_data"
    }
   ],
   "source": [
    "####### Hide Cell Input ############\n",
    "from IPython.core.display import display, HTML\n",
    "toggle_code_str = '''\n",
    "<form action=\"javascript:code_toggle()\"><input type=\"submit\" id=\"toggleButton\" value=\"Show Solution\"></form>\n",
    "'''\n",
    "\n",
    "toggle_code_prepare_str = '''\n",
    "    <script>\n",
    "    function code_toggle() {\n",
    "        if ($('div.cell.code_cell.rendered.selected div.input').css('display')!='none'){\n",
    "            $('div.cell.code_cell.rendered.selected div.input').hide();\n",
    "        } else {\n",
    "            $('div.cell.code_cell.rendered.selected div.input').show();\n",
    "        }\n",
    "    }\n",
    "    </script>\n",
    "\n",
    "'''\n",
    "\n",
    "display(HTML(toggle_code_prepare_str + toggle_code_str))\n",
    "\n",
    "############### Write code below ##################\n",
    "\n",
    "orig_list = [1, 2, 3, 4, 5, 6, 7, 8, 9, 10, 11, 12]\n",
    "new_list = [x for x in orig_list if x % 3 == 0] # list comprehension"
   ]
  },
  {
   "cell_type": "markdown",
   "id": "7fcd29ac",
   "metadata": {},
   "source": [
    "Check solution:"
   ]
  },
  {
   "cell_type": "code",
   "execution_count": 15,
   "id": "3b5618af",
   "metadata": {
    "tags": [
     "hide-input"
    ]
   },
   "outputs": [
    {
     "data": {
      "text/html": [
       "\n",
       "    <script>\n",
       "    function code_toggle() {\n",
       "        if ($('div.cell.code_cell.rendered.selected div.input').css('display')!='none'){\n",
       "            $('div.cell.code_cell.rendered.selected div.input').hide();\n",
       "        } else {\n",
       "            $('div.cell.code_cell.rendered.selected div.input').show();\n",
       "        }\n",
       "    }\n",
       "    </script>\n",
       "\n",
       "\n",
       "<form action=\"javascript:code_toggle()\"><input type=\"submit\" id=\"toggleButton\" value=\"Show Checks\"></form>\n"
      ],
      "text/plain": [
       "<IPython.core.display.HTML object>"
      ]
     },
     "metadata": {},
     "output_type": "display_data"
    },
    {
     "ename": "NameError",
     "evalue": "name 'new_list' is not defined",
     "output_type": "error",
     "traceback": [
      "\u001b[1;31m---------------------------------------------------------------------------\u001b[0m",
      "\u001b[1;31mNameError\u001b[0m                                 Traceback (most recent call last)",
      "\u001b[1;32m~\\AppData\\Local\\Temp\\ipykernel_19432\\1966509784.py\u001b[0m in \u001b[0;36m<module>\u001b[1;34m\u001b[0m\n\u001b[0;32m     23\u001b[0m \u001b[1;33m\u001b[0m\u001b[0m\n\u001b[0;32m     24\u001b[0m \u001b[0msolution\u001b[0m \u001b[1;33m=\u001b[0m \u001b[1;33m[\u001b[0m\u001b[1;36m3\u001b[0m\u001b[1;33m,\u001b[0m \u001b[1;36m6\u001b[0m\u001b[1;33m,\u001b[0m \u001b[1;36m9\u001b[0m\u001b[1;33m,\u001b[0m \u001b[1;36m12\u001b[0m\u001b[1;33m]\u001b[0m\u001b[1;33m\u001b[0m\u001b[1;33m\u001b[0m\u001b[0m\n\u001b[1;32m---> 25\u001b[1;33m \u001b[1;32mif\u001b[0m \u001b[0mlen\u001b[0m\u001b[1;33m(\u001b[0m\u001b[0mnew_list\u001b[0m\u001b[1;33m)\u001b[0m \u001b[1;33m!=\u001b[0m \u001b[0mlen\u001b[0m\u001b[1;33m(\u001b[0m\u001b[0msolution\u001b[0m\u001b[1;33m)\u001b[0m\u001b[1;33m:\u001b[0m\u001b[1;33m\u001b[0m\u001b[1;33m\u001b[0m\u001b[0m\n\u001b[0m\u001b[0;32m     26\u001b[0m     \u001b[0mprint\u001b[0m\u001b[1;33m(\u001b[0m\u001b[1;34m\"Length of solution incorrect.\"\u001b[0m\u001b[1;33m)\u001b[0m\u001b[1;33m\u001b[0m\u001b[1;33m\u001b[0m\u001b[0m\n\u001b[0;32m     27\u001b[0m \u001b[1;32melse\u001b[0m\u001b[1;33m:\u001b[0m\u001b[1;33m\u001b[0m\u001b[1;33m\u001b[0m\u001b[0m\n",
      "\u001b[1;31mNameError\u001b[0m: name 'new_list' is not defined"
     ]
    }
   ],
   "source": [
    "####### Hide Cell Input ############\n",
    "from IPython.core.display import display, HTML\n",
    "toggle_code_str = '''\n",
    "<form action=\"javascript:code_toggle()\"><input type=\"submit\" id=\"toggleButton\" value=\"Show Checks\"></form>\n",
    "'''\n",
    "\n",
    "toggle_code_prepare_str = '''\n",
    "    <script>\n",
    "    function code_toggle() {\n",
    "        if ($('div.cell.code_cell.rendered.selected div.input').css('display')!='none'){\n",
    "            $('div.cell.code_cell.rendered.selected div.input').hide();\n",
    "        } else {\n",
    "            $('div.cell.code_cell.rendered.selected div.input').show();\n",
    "        }\n",
    "    }\n",
    "    </script>\n",
    "\n",
    "'''\n",
    "\n",
    "display(HTML(toggle_code_prepare_str + toggle_code_str))\n",
    "\n",
    "############### Write code below ##################\n",
    "\n",
    "solution = [3, 6, 9, 12]\n",
    "if len(new_list) != len(solution):\n",
    "    print(\"Length of solution incorrect.\")\n",
    "else:\n",
    "    for i in range(len(new_list)):\n",
    "        if new_list[i] != solution[i]:\n",
    "            print(f\"Value at index {i} incorrect. Expected: {solution[i]}, Actual: {new_list[i]}\")\n",
    "            break\n",
    "    else:\n",
    "        print(\"Passed!\")"
   ]
  },
  {
   "cell_type": "markdown",
   "id": "2035052b",
   "metadata": {},
   "source": [
    "## Functions (Slide 69)"
   ]
  },
  {
   "cell_type": "markdown",
   "id": "c80c63e6",
   "metadata": {},
   "source": [
    "### Defining Functions\n",
    "Functions are defined using the `def` keyword, followed by function name and arguments. Include a `return` statement in the body if the function should return a value:"
   ]
  },
  {
   "cell_type": "code",
   "execution_count": 5,
   "id": "4428959a",
   "metadata": {},
   "outputs": [],
   "source": [
    "def function1():\n",
    "    print(\"Function called\")\n",
    "    \n",
    "def function2(arg1, arg2):\n",
    "    print(\"Function called with arguments:\", arg1, arg2)\n",
    "    return True"
   ]
  },
  {
   "cell_type": "markdown",
   "id": "87083346",
   "metadata": {},
   "source": [
    "### Calling Functions\n",
    "Call a function be using its name and passing in any arguments. The function expression is evaluated to its `return` value; if there is no return statement, then the value is `None`:"
   ]
  },
  {
   "cell_type": "code",
   "execution_count": 6,
   "id": "c9aff58e",
   "metadata": {},
   "outputs": [
    {
     "name": "stdout",
     "output_type": "stream",
     "text": [
      "Function called\n",
      "Function called with arguments: 3 string\n",
      "ret1: None\n",
      "ret2: True\n"
     ]
    }
   ],
   "source": [
    "ret1 = function1()\n",
    "ret2 = function2(3, \"string\")\n",
    "\n",
    "print(\"ret1:\", ret1)\n",
    "print(\"ret2:\", ret2)"
   ]
  },
  {
   "cell_type": "markdown",
   "id": "781ee3e1",
   "metadata": {},
   "source": [
    "Functions are first-class objects, so they are treated as any other Python object. They can be assigned to variables or passed as arguments:"
   ]
  },
  {
   "cell_type": "code",
   "execution_count": 7,
   "id": "e0073dfe",
   "metadata": {},
   "outputs": [
    {
     "name": "stdout",
     "output_type": "stream",
     "text": [
      "Function called\n"
     ]
    }
   ],
   "source": [
    "# Function that calls a function passed as an argument\n",
    "def call_func(func):\n",
    "    func()\n",
    "    \n",
    "func_var = function1 # Assign function1 to a variable\n",
    "call_func(func_var)"
   ]
  },
  {
   "cell_type": "markdown",
   "id": "5e4a1543",
   "metadata": {},
   "source": [
    "### Arguments\n",
    "Default arguments don't need to be specified during a function call unless you change the value:"
   ]
  },
  {
   "cell_type": "code",
   "execution_count": 8,
   "id": "ca60af8a",
   "metadata": {},
   "outputs": [
    {
     "name": "stdout",
     "output_type": "stream",
     "text": [
      "Function called with arguments: 3 default\n",
      "Function called with arguments: 3 changed\n"
     ]
    }
   ],
   "source": [
    "# Function with default arguments\n",
    "def default_func(arg1, arg2=\"default\"):\n",
    "    print(\"Function called with arguments:\", arg1, arg2)\n",
    "    \n",
    "default_func(3)\n",
    "default_func(3, \"changed\")"
   ]
  },
  {
   "cell_type": "markdown",
   "id": "74491b7b",
   "metadata": {},
   "source": [
    "You can specify arguments by name during a call; this is useful if you only want to change a few defaults out of many:"
   ]
  },
  {
   "cell_type": "code",
   "execution_count": 9,
   "id": "5d85fb90",
   "metadata": {},
   "outputs": [
    {
     "name": "stdout",
     "output_type": "stream",
     "text": [
      "Function called with arguments: 2 named\n"
     ]
    }
   ],
   "source": [
    "default_func(arg2=\"named\", arg1=2)"
   ]
  },
  {
   "cell_type": "markdown",
   "id": "8c38ad56",
   "metadata": {},
   "source": [
    "**Default arguments (during function definition) and named arguments (during function call) must come after all positional arguments!**"
   ]
  },
  {
   "cell_type": "markdown",
   "id": "c2701406",
   "metadata": {},
   "source": [
    "### Lambda Functions\n",
    "Lambda functions are single-line functions that are immediately assigned to a variable or passed as an argument. Lambda functions can only include a single expression that creates the return value for the function. The syntax for a lambda expression is `lambda [args]: [return expression]`:"
   ]
  },
  {
   "cell_type": "code",
   "execution_count": 10,
   "id": "a63220c3",
   "metadata": {},
   "outputs": [
    {
     "name": "stdout",
     "output_type": "stream",
     "text": [
      "10\n"
     ]
    }
   ],
   "source": [
    "# Assign lambda expression to variable to create a function that can be called\n",
    "lambda_func = lambda arg1, arg2: arg1 * arg2\n",
    "print(lambda_func(2, 5))"
   ]
  },
  {
   "cell_type": "code",
   "execution_count": 11,
   "id": "73d3196f",
   "metadata": {},
   "outputs": [
    {
     "name": "stdout",
     "output_type": "stream",
     "text": [
      "lambda called\n"
     ]
    }
   ],
   "source": [
    "# Pass lambda function as argument. 'call_func' requires that the passed function takes no arguments\n",
    "call_func(lambda: print(\"lambda called\"))"
   ]
  },
  {
   "cell_type": "markdown",
   "id": "5b6a4df4",
   "metadata": {},
   "source": [
    "## Exercises"
   ]
  },
  {
   "cell_type": "markdown",
   "id": "480e9685",
   "metadata": {},
   "source": [
    "Create a function named `create_func` that accepts a single integer `i` as an argument, and returns a function that, when called, returns a sequence of length `i`."
   ]
  },
  {
   "cell_type": "code",
   "execution_count": null,
   "id": "8b64659e",
   "metadata": {},
   "outputs": [],
   "source": [
    "# Create function\n",
    "def create_func(i):\n",
    "    pass"
   ]
  },
  {
   "cell_type": "markdown",
   "id": "6742ebb1",
   "metadata": {},
   "source": [
    "Solution:"
   ]
  },
  {
   "cell_type": "code",
   "execution_count": 22,
   "id": "3ad5ae7a",
   "metadata": {
    "tags": [
     "hide-cell"
    ]
   },
   "outputs": [
    {
     "data": {
      "text/html": [
       "\n",
       "    <script>\n",
       "    function code_toggle() {\n",
       "        if ($('div.cell.code_cell.rendered.selected div.input').css('display')!='none'){\n",
       "            $('div.cell.code_cell.rendered.selected div.input').hide();\n",
       "        } else {\n",
       "            $('div.cell.code_cell.rendered.selected div.input').show();\n",
       "        }\n",
       "    }\n",
       "    </script>\n",
       "\n",
       "\n",
       "<form action=\"javascript:code_toggle()\"><input type=\"submit\" id=\"toggleButton\" value=\"Show Solution\"></form>\n"
      ],
      "text/plain": [
       "<IPython.core.display.HTML object>"
      ]
     },
     "metadata": {},
     "output_type": "display_data"
    }
   ],
   "source": [
    "####### Hide Cell Input ############\n",
    "from IPython.core.display import display, HTML\n",
    "toggle_code_str = '''\n",
    "<form action=\"javascript:code_toggle()\"><input type=\"submit\" id=\"toggleButton\" value=\"Show Solution\"></form>\n",
    "'''\n",
    "\n",
    "toggle_code_prepare_str = '''\n",
    "    <script>\n",
    "    function code_toggle() {\n",
    "        if ($('div.cell.code_cell.rendered.selected div.input').css('display')!='none'){\n",
    "            $('div.cell.code_cell.rendered.selected div.input').hide();\n",
    "        } else {\n",
    "            $('div.cell.code_cell.rendered.selected div.input').show();\n",
    "        }\n",
    "    }\n",
    "    </script>\n",
    "\n",
    "'''\n",
    "\n",
    "display(HTML(toggle_code_prepare_str + toggle_code_str))\n",
    "\n",
    "############### Write code below ##################\n",
    "\n",
    "def create_func(i):\n",
    "    def func():\n",
    "        return ['a'] * i\n",
    "    return func"
   ]
  },
  {
   "cell_type": "markdown",
   "id": "e93a9c11",
   "metadata": {},
   "source": [
    "Check solution:"
   ]
  },
  {
   "cell_type": "code",
   "execution_count": 16,
   "id": "97522391",
   "metadata": {
    "tags": [
     "hide-input"
    ]
   },
   "outputs": [
    {
     "data": {
      "text/html": [
       "\n",
       "    <script>\n",
       "    function code_toggle() {\n",
       "        if ($('div.cell.code_cell.rendered.selected div.input').css('display')!='none'){\n",
       "            $('div.cell.code_cell.rendered.selected div.input').hide();\n",
       "        } else {\n",
       "            $('div.cell.code_cell.rendered.selected div.input').show();\n",
       "        }\n",
       "    }\n",
       "    </script>\n",
       "\n",
       "\n",
       "<form action=\"javascript:code_toggle()\"><input type=\"submit\" id=\"toggleButton\" value=\"Show Checks\"></form>\n"
      ],
      "text/plain": [
       "<IPython.core.display.HTML object>"
      ]
     },
     "metadata": {},
     "output_type": "display_data"
    },
    {
     "ename": "NameError",
     "evalue": "name 'create_func' is not defined",
     "output_type": "error",
     "traceback": [
      "\u001b[1;31m---------------------------------------------------------------------------\u001b[0m",
      "\u001b[1;31mNameError\u001b[0m                                 Traceback (most recent call last)",
      "\u001b[1;32m~\\AppData\\Local\\Temp\\ipykernel_19432\\969276069.py\u001b[0m in \u001b[0;36m<module>\u001b[1;34m\u001b[0m\n\u001b[0;32m     23\u001b[0m \u001b[1;33m\u001b[0m\u001b[0m\n\u001b[0;32m     24\u001b[0m \u001b[1;32mfor\u001b[0m \u001b[0mi\u001b[0m \u001b[1;32min\u001b[0m \u001b[0mrange\u001b[0m\u001b[1;33m(\u001b[0m\u001b[1;36m10\u001b[0m\u001b[1;33m)\u001b[0m\u001b[1;33m:\u001b[0m\u001b[1;33m\u001b[0m\u001b[1;33m\u001b[0m\u001b[0m\n\u001b[1;32m---> 25\u001b[1;33m     \u001b[0mf\u001b[0m \u001b[1;33m=\u001b[0m \u001b[0mcreate_func\u001b[0m\u001b[1;33m(\u001b[0m\u001b[0mi\u001b[0m\u001b[1;33m)\u001b[0m\u001b[1;33m\u001b[0m\u001b[1;33m\u001b[0m\u001b[0m\n\u001b[0m\u001b[0;32m     26\u001b[0m     \u001b[1;32mif\u001b[0m \u001b[0mlen\u001b[0m\u001b[1;33m(\u001b[0m\u001b[0mf\u001b[0m\u001b[1;33m(\u001b[0m\u001b[1;33m)\u001b[0m\u001b[1;33m)\u001b[0m \u001b[1;33m!=\u001b[0m \u001b[0mi\u001b[0m\u001b[1;33m:\u001b[0m\u001b[1;33m\u001b[0m\u001b[1;33m\u001b[0m\u001b[0m\n\u001b[0;32m     27\u001b[0m         \u001b[0mprint\u001b[0m\u001b[1;33m(\u001b[0m\u001b[1;34mf\"Created function failed for input {i}\"\u001b[0m\u001b[1;33m)\u001b[0m\u001b[1;33m\u001b[0m\u001b[1;33m\u001b[0m\u001b[0m\n",
      "\u001b[1;31mNameError\u001b[0m: name 'create_func' is not defined"
     ]
    }
   ],
   "source": [
    "####### Hide Cell Input ############\n",
    "from IPython.core.display import display, HTML\n",
    "toggle_code_str = '''\n",
    "<form action=\"javascript:code_toggle()\"><input type=\"submit\" id=\"toggleButton\" value=\"Show Checks\"></form>\n",
    "'''\n",
    "\n",
    "toggle_code_prepare_str = '''\n",
    "    <script>\n",
    "    function code_toggle() {\n",
    "        if ($('div.cell.code_cell.rendered.selected div.input').css('display')!='none'){\n",
    "            $('div.cell.code_cell.rendered.selected div.input').hide();\n",
    "        } else {\n",
    "            $('div.cell.code_cell.rendered.selected div.input').show();\n",
    "        }\n",
    "    }\n",
    "    </script>\n",
    "\n",
    "'''\n",
    "\n",
    "display(HTML(toggle_code_prepare_str + toggle_code_str))\n",
    "\n",
    "############### Write code below ##################\n",
    "\n",
    "for i in range(10):\n",
    "    f = create_func(i)\n",
    "    if len(f()) != i:\n",
    "        print(f\"Created function failed for input {i}\")\n",
    "        break\n",
    "else:\n",
    "    print(\"Passed!\")"
   ]
  },
  {
   "cell_type": "markdown",
   "id": "7be70866",
   "metadata": {},
   "source": [
    "## Generators\n",
    "Generators are special functions that repeatedly return values over and over, one at a time, using `yield` instead of `return`. They are an excellent way to create long sequences without taking up too much memory:"
   ]
  },
  {
   "cell_type": "code",
   "execution_count": 15,
   "id": "104475d5",
   "metadata": {},
   "outputs": [],
   "source": [
    "def create_gen():\n",
    "    i = 0\n",
    "    while i < 10:\n",
    "        yield i\n",
    "        i += 1"
   ]
  },
  {
   "cell_type": "markdown",
   "id": "41b11106",
   "metadata": {},
   "source": [
    "You can use the `next()` function to get the next value in the generator:"
   ]
  },
  {
   "cell_type": "code",
   "execution_count": 16,
   "id": "4afd0b3b",
   "metadata": {},
   "outputs": [
    {
     "name": "stdout",
     "output_type": "stream",
     "text": [
      "0\n",
      "1\n"
     ]
    }
   ],
   "source": [
    "gen = create_gen()\n",
    "print(next(gen))\n",
    "print(next(gen))"
   ]
  },
  {
   "cell_type": "markdown",
   "id": "29d01c9d",
   "metadata": {},
   "source": [
    "You can loop through a generator like any iterable. Once a generator is exhausted, it can't be used again (unless you create a new one)"
   ]
  },
  {
   "cell_type": "code",
   "execution_count": 18,
   "id": "ba9040ce",
   "metadata": {},
   "outputs": [
    {
     "name": "stdout",
     "output_type": "stream",
     "text": [
      "0\n",
      "1\n",
      "2\n",
      "3\n",
      "4\n",
      "5\n",
      "6\n",
      "7\n",
      "8\n",
      "9\n"
     ]
    }
   ],
   "source": [
    "gen = create_gen()\n",
    "for x in gen:\n",
    "    print(x)\n",
    "    \n",
    "for x in gen: # won't work again\n",
    "    print(x)"
   ]
  },
  {
   "cell_type": "markdown",
   "id": "11444dd8",
   "metadata": {},
   "source": [
    "Generator comprehension can create generators out of sequences in the same way list comprehensions work (using parenthesis instead of brackets)"
   ]
  },
  {
   "cell_type": "code",
   "execution_count": 19,
   "id": "1350d6b1",
   "metadata": {},
   "outputs": [
    {
     "name": "stdout",
     "output_type": "stream",
     "text": [
      "2\n",
      "4\n"
     ]
    }
   ],
   "source": [
    "gen = (x * 2 for x in [1, 2, 3])\n",
    "print(next(gen))\n",
    "print(next(gen))"
   ]
  },
  {
   "cell_type": "markdown",
   "id": "df55f6a5",
   "metadata": {},
   "source": [
    "## Exercises"
   ]
  },
  {
   "cell_type": "markdown",
   "id": "db1a30ab",
   "metadata": {},
   "source": [
    "Write a function named `create_gen` that creates a generator that yields values of the fibonacci sequence less than 100."
   ]
  },
  {
   "cell_type": "code",
   "execution_count": 87,
   "id": "b06effc3",
   "metadata": {},
   "outputs": [],
   "source": [
    "def create_gen():\n",
    "    i1 = 0\n",
    "    i2 = 0\n",
    "    res = 1\n",
    "    while res < 100:\n",
    "        pass # yield current value and then compute next value"
   ]
  },
  {
   "cell_type": "markdown",
   "id": "ae7677f4",
   "metadata": {},
   "source": [
    "Solution:"
   ]
  },
  {
   "cell_type": "code",
   "execution_count": 23,
   "id": "d983242e",
   "metadata": {
    "tags": [
     "hide-cell"
    ]
   },
   "outputs": [
    {
     "data": {
      "text/html": [
       "\n",
       "    <script>\n",
       "    function code_toggle() {\n",
       "        if ($('div.cell.code_cell.rendered.selected div.input').css('display')!='none'){\n",
       "            $('div.cell.code_cell.rendered.selected div.input').hide();\n",
       "        } else {\n",
       "            $('div.cell.code_cell.rendered.selected div.input').show();\n",
       "        }\n",
       "    }\n",
       "    </script>\n",
       "\n",
       "\n",
       "<form action=\"javascript:code_toggle()\"><input type=\"submit\" id=\"toggleButton\" value=\"Show Solution\"></form>\n"
      ],
      "text/plain": [
       "<IPython.core.display.HTML object>"
      ]
     },
     "metadata": {},
     "output_type": "display_data"
    }
   ],
   "source": [
    "####### Hide Cell Input ############\n",
    "from IPython.core.display import display, HTML\n",
    "toggle_code_str = '''\n",
    "<form action=\"javascript:code_toggle()\"><input type=\"submit\" id=\"toggleButton\" value=\"Show Solution\"></form>\n",
    "'''\n",
    "\n",
    "toggle_code_prepare_str = '''\n",
    "    <script>\n",
    "    function code_toggle() {\n",
    "        if ($('div.cell.code_cell.rendered.selected div.input').css('display')!='none'){\n",
    "            $('div.cell.code_cell.rendered.selected div.input').hide();\n",
    "        } else {\n",
    "            $('div.cell.code_cell.rendered.selected div.input').show();\n",
    "        }\n",
    "    }\n",
    "    </script>\n",
    "\n",
    "'''\n",
    "\n",
    "display(HTML(toggle_code_prepare_str + toggle_code_str))\n",
    "\n",
    "############### Write code below ##################\n",
    "\n",
    "def create_gen():\n",
    "    i1 = 0\n",
    "    i2 = 0\n",
    "    res = 1\n",
    "    while res < 100:\n",
    "        yield res\n",
    "        i1 = i2\n",
    "        i2 = res\n",
    "        res = i1 + i2"
   ]
  },
  {
   "cell_type": "markdown",
   "id": "c34d433e",
   "metadata": {},
   "source": [
    "Check solution:"
   ]
  },
  {
   "cell_type": "code",
   "execution_count": 17,
   "id": "dd130819",
   "metadata": {
    "tags": [
     "hide-input"
    ]
   },
   "outputs": [
    {
     "data": {
      "text/html": [
       "\n",
       "    <script>\n",
       "    function code_toggle() {\n",
       "        if ($('div.cell.code_cell.rendered.selected div.input').css('display')!='none'){\n",
       "            $('div.cell.code_cell.rendered.selected div.input').hide();\n",
       "        } else {\n",
       "            $('div.cell.code_cell.rendered.selected div.input').show();\n",
       "        }\n",
       "    }\n",
       "    </script>\n",
       "\n",
       "\n",
       "<form action=\"javascript:code_toggle()\"><input type=\"submit\" id=\"toggleButton\" value=\"Show Checks\"></form>\n"
      ],
      "text/plain": [
       "<IPython.core.display.HTML object>"
      ]
     },
     "metadata": {},
     "output_type": "display_data"
    },
    {
     "ename": "NameError",
     "evalue": "name 'create_gen' is not defined",
     "output_type": "error",
     "traceback": [
      "\u001b[1;31m---------------------------------------------------------------------------\u001b[0m",
      "\u001b[1;31mNameError\u001b[0m                                 Traceback (most recent call last)",
      "\u001b[1;32m~\\AppData\\Local\\Temp\\ipykernel_19432\\2112177334.py\u001b[0m in \u001b[0;36m<module>\u001b[1;34m\u001b[0m\n\u001b[0;32m     23\u001b[0m \u001b[1;33m\u001b[0m\u001b[0m\n\u001b[0;32m     24\u001b[0m \u001b[0mans\u001b[0m \u001b[1;33m=\u001b[0m \u001b[1;33m[\u001b[0m\u001b[1;36m1\u001b[0m\u001b[1;33m,\u001b[0m \u001b[1;36m1\u001b[0m\u001b[1;33m,\u001b[0m \u001b[1;36m2\u001b[0m\u001b[1;33m,\u001b[0m \u001b[1;36m3\u001b[0m\u001b[1;33m,\u001b[0m \u001b[1;36m5\u001b[0m\u001b[1;33m,\u001b[0m \u001b[1;36m8\u001b[0m\u001b[1;33m,\u001b[0m \u001b[1;36m13\u001b[0m\u001b[1;33m,\u001b[0m \u001b[1;36m21\u001b[0m\u001b[1;33m,\u001b[0m \u001b[1;36m34\u001b[0m\u001b[1;33m,\u001b[0m \u001b[1;36m55\u001b[0m\u001b[1;33m,\u001b[0m \u001b[1;36m89\u001b[0m\u001b[1;33m]\u001b[0m\u001b[1;33m\u001b[0m\u001b[1;33m\u001b[0m\u001b[0m\n\u001b[1;32m---> 25\u001b[1;33m \u001b[0mgen\u001b[0m \u001b[1;33m=\u001b[0m \u001b[0mcreate_gen\u001b[0m\u001b[1;33m(\u001b[0m\u001b[1;33m)\u001b[0m\u001b[1;33m\u001b[0m\u001b[1;33m\u001b[0m\u001b[0m\n\u001b[0m\u001b[0;32m     26\u001b[0m \u001b[1;32mfor\u001b[0m \u001b[0mi\u001b[0m\u001b[1;33m,\u001b[0m \u001b[0mval\u001b[0m \u001b[1;32min\u001b[0m \u001b[0menumerate\u001b[0m\u001b[1;33m(\u001b[0m\u001b[0mgen\u001b[0m\u001b[1;33m)\u001b[0m\u001b[1;33m:\u001b[0m\u001b[1;33m\u001b[0m\u001b[1;33m\u001b[0m\u001b[0m\n\u001b[0;32m     27\u001b[0m     \u001b[1;32mif\u001b[0m \u001b[0mval\u001b[0m \u001b[1;33m!=\u001b[0m \u001b[0mans\u001b[0m\u001b[1;33m[\u001b[0m\u001b[0mi\u001b[0m\u001b[1;33m]\u001b[0m\u001b[1;33m:\u001b[0m\u001b[1;33m\u001b[0m\u001b[1;33m\u001b[0m\u001b[0m\n",
      "\u001b[1;31mNameError\u001b[0m: name 'create_gen' is not defined"
     ]
    }
   ],
   "source": [
    "####### Hide Cell Input ############\n",
    "from IPython.core.display import display, HTML\n",
    "toggle_code_str = '''\n",
    "<form action=\"javascript:code_toggle()\"><input type=\"submit\" id=\"toggleButton\" value=\"Show Checks\"></form>\n",
    "'''\n",
    "\n",
    "toggle_code_prepare_str = '''\n",
    "    <script>\n",
    "    function code_toggle() {\n",
    "        if ($('div.cell.code_cell.rendered.selected div.input').css('display')!='none'){\n",
    "            $('div.cell.code_cell.rendered.selected div.input').hide();\n",
    "        } else {\n",
    "            $('div.cell.code_cell.rendered.selected div.input').show();\n",
    "        }\n",
    "    }\n",
    "    </script>\n",
    "\n",
    "'''\n",
    "\n",
    "display(HTML(toggle_code_prepare_str + toggle_code_str))\n",
    "\n",
    "############### Write code below ##################\n",
    "\n",
    "ans = [1, 1, 2, 3, 5, 8, 13, 21, 34, 55, 89]\n",
    "gen = create_gen()\n",
    "for i, val in enumerate(gen):\n",
    "    if val != ans[i]:\n",
    "        print(f\"Value at index {i} incorrect. Expected: {ans[i]}, Received: {val}\")\n",
    "        break\n",
    "else:\n",
    "    print(\"Passed!\")"
   ]
  },
  {
   "cell_type": "markdown",
   "id": "3122fb50",
   "metadata": {},
   "source": [
    "## I/O (Slide 76)"
   ]
  },
  {
   "cell_type": "markdown",
   "id": "c3195c40",
   "metadata": {},
   "source": [
    "Basic input and output is simple in Python: use `input()` to read from stdin, and use `print()` to print to stdout."
   ]
  },
  {
   "cell_type": "code",
   "execution_count": 21,
   "id": "eaba1773",
   "metadata": {},
   "outputs": [
    {
     "name": "stdout",
     "output_type": "stream",
     "text": [
      "Enter a value: 5\n",
      "5\n"
     ]
    }
   ],
   "source": [
    "x = input(\"Enter a value: \")\n",
    "print(x)"
   ]
  },
  {
   "cell_type": "markdown",
   "id": "afe35b14",
   "metadata": {},
   "source": [
    "File I/O works by using the `open()` function to open a file for reading/writing, using the `read()` and `write()` functions to read or write data, and finally using `close()` to close the file. `open()` uses flags to determine whether to open the file for reading or writing:  \n",
    "- 'r' - read\n",
    "- 'w' - write\n",
    "- 'a' - append\n",
    "- 'b' - read/write/append raw bytes instead of utf-8 encoded data"
   ]
  },
  {
   "cell_type": "code",
   "execution_count": 25,
   "id": "9f662b9e",
   "metadata": {},
   "outputs": [
    {
     "name": "stdout",
     "output_type": "stream",
     "text": [
      "file contents\n"
     ]
    }
   ],
   "source": [
    "f = open('file.txt', 'r')\n",
    "data = f.read()\n",
    "f.close()\n",
    "\n",
    "print(data)"
   ]
  },
  {
   "cell_type": "markdown",
   "id": "a75bd1df",
   "metadata": {},
   "source": [
    "The `with` statement creates a context that will automatically close the file when the block is exited:"
   ]
  },
  {
   "cell_type": "code",
   "execution_count": 23,
   "id": "6cae9e7e",
   "metadata": {},
   "outputs": [],
   "source": [
    "with open('file.txt', 'w') as f:\n",
    "    f.write('new file contents')"
   ]
  },
  {
   "cell_type": "markdown",
   "id": "ae14a40b",
   "metadata": {},
   "source": [
    "### String Formatting\n",
    "String formatting allows you to create strings using variables. All methods use the `sprintf` formatting conventions to set variable types, decimal places, etc. There are three main methods of string formatting, introduced sequentially in different versions of Python:\n",
    "- The `%` operator was the original method, in Python 2\n",
    "- The `format()` function was introduced in Python 3\n",
    "- String literals, denoted by `f` before the first quote, were introduced in Python 3.6"
   ]
  },
  {
   "cell_type": "code",
   "execution_count": 30,
   "id": "1886de42",
   "metadata": {},
   "outputs": [
    {
     "name": "stdout",
     "output_type": "stream",
     "text": [
      "2.50 is a number\n",
      "2.00, hello\n",
      "2.00, hello\n",
      "3.00, hello!\n"
     ]
    }
   ],
   "source": [
    "print ('%.2f is a number' % 2.5) # % operator\n",
    "print('{x:.2f}, {y}'.format(x=2, y='hello')) # format function with named arguments\n",
    "print('{:.2f}, {}'.format(2, 'hello')) # format function with ordered arguments\n",
    "\n",
    "x, y = 3, \"hello!\"\n",
    "print(f'{x:.2f}, {y}') # string literal"
   ]
  },
  {
   "cell_type": "code",
   "execution_count": null,
   "id": "40fc9750",
   "metadata": {},
   "outputs": [],
   "source": []
  }
 ],
 "metadata": {
  "kernelspec": {
   "display_name": "Python 3 (ipykernel)",
   "language": "python",
   "name": "python3"
  },
  "language_info": {
   "codemirror_mode": {
    "name": "ipython",
    "version": 3
   },
   "file_extension": ".py",
   "mimetype": "text/x-python",
   "name": "python",
   "nbconvert_exporter": "python",
   "pygments_lexer": "ipython3",
   "version": "3.7.12"
  }
 },
 "nbformat": 4,
 "nbformat_minor": 5
}
